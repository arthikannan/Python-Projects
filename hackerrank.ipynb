{
 "cells": [
  {
   "cell_type": "code",
   "execution_count": 12,
   "metadata": {},
   "outputs": [
    {
     "name": "stdout",
     "output_type": "stream",
     "text": [
      "[2, 1, 0, 0]\n",
      "3\n"
     ]
    }
   ],
   "source": [
    "# Hackerrank Sock Merchant Challenge\n",
    "\n",
    "n=9\n",
    "ar=[10,20,10,10,20,50,30,10,20]\n",
    "my_list=[]\n",
    "val_list = []\n",
    "num=0\n",
    "\n",
    "for i,v in enumerate(ar):\n",
    "    count = 0\n",
    "    if v not in val_list:\n",
    "        val_list.append(v)\n",
    "        for j in range(0,n):\n",
    "            if ar[j] == v:\n",
    "                count +=1\n",
    "        pair=count//2\n",
    "        my_list.append(pair)\n",
    "\n",
    "i=0\n",
    "print(my_list)\n",
    "for i in my_list:\n",
    "    num = num+i\n",
    "print(num)\n",
    "\n"
   ]
  },
  {
   "cell_type": "code",
   "execution_count": 16,
   "metadata": {},
   "outputs": [
    {
     "name": "stdout",
     "output_type": "stream",
     "text": [
      "D\n",
      "inside if -1\n",
      "D\n",
      "inside if -2\n",
      "U\n",
      "inside elif -1\n",
      "U\n",
      "inside elif 0\n",
      "inside sea 1\n",
      "D\n",
      "inside if -1\n",
      "D\n",
      "inside if -2\n",
      "U\n",
      "inside elif -1\n",
      "D\n",
      "inside if -2\n",
      "U\n",
      "inside elif -1\n",
      "U\n",
      "inside elif 0\n",
      "inside sea 2\n",
      "U\n",
      "inside elif 1\n",
      "D\n",
      "inside if 0\n",
      "inside sea 3\n",
      "3\n"
     ]
    }
   ],
   "source": [
    "# Hackerrank Counting Mountain and Valley challenge\n",
    "n=12\n",
    "s=\"DDUUDDUDUUUD\"\n",
    "sea=0\n",
    "count=0\n",
    "for i in s:\n",
    "    if i == \"D\":\n",
    "        ad = -1\n",
    "    elif i == 'U':\n",
    "        ad = 1\n",
    "    sea += ad\n",
    "    if sea==0 and ad==1:\n",
    "        count +=1\n",
    "print(count)"
   ]
  },
  {
   "cell_type": "code",
   "execution_count": 30,
   "metadata": {},
   "outputs": [
    {
     "name": "stdout",
     "output_type": "stream",
     "text": [
      "0\n",
      "1\n",
      "2\n",
      "2\n",
      "3\n",
      "3\n",
      "5\n",
      "4\n",
      "3\n"
     ]
    }
   ],
   "source": [
    "# Hackerrank jumping on the clouds\n",
    "c = [0, 0, 0, 0, 1, 0]\n",
    "n=len(c)\n",
    "i=0\n",
    "count=0\n",
    "while i<n:\n",
    "    print(i)\n",
    "    if i+2 < n:\n",
    "        if c[i+2]==0:\n",
    "            i=i+2\n",
    "        else:\n",
    "            i=i+1\n",
    "    else:\n",
    "        i=i+1\n",
    "    count +=1\n",
    "    print(count)\n",
    "print(count-1)\n",
    "        \n",
    "    "
   ]
  },
  {
   "cell_type": "code",
   "execution_count": null,
   "metadata": {},
   "outputs": [],
   "source": []
  }
 ],
 "metadata": {
  "kernelspec": {
   "display_name": "Python 3",
   "language": "python",
   "name": "python3"
  },
  "language_info": {
   "codemirror_mode": {
    "name": "ipython",
    "version": 3
   },
   "file_extension": ".py",
   "mimetype": "text/x-python",
   "name": "python",
   "nbconvert_exporter": "python",
   "pygments_lexer": "ipython3",
   "version": "3.7.3"
  }
 },
 "nbformat": 4,
 "nbformat_minor": 2
}
