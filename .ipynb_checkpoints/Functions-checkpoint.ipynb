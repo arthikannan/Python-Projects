{
 "cells": [
  {
   "cell_type": "code",
   "execution_count": 1,
   "metadata": {},
   "outputs": [
    {
     "name": "stdout",
     "output_type": "stream",
     "text": [
      "Hello world!\n"
     ]
    }
   ],
   "source": [
    "# function to print hello world\n",
    "def print_fnc():\n",
    "    print(\"Hello world!\")\n",
    "    \n",
    "print_fnc()"
   ]
  },
  {
   "cell_type": "code",
   "execution_count": 2,
   "metadata": {},
   "outputs": [
    {
     "name": "stdout",
     "output_type": "stream",
     "text": [
      "I live at USA\n",
      "I live at India\n",
      "I live at Canada\n"
     ]
    }
   ],
   "source": [
    "# function to take arguments\n",
    "\n",
    "def arg_funct(country=\"Canada\"):\n",
    "    print(f\"I live at {country}\")\n",
    "    \n",
    "arg_funct(\"USA\")\n",
    "arg_funct(\"India\")\n",
    "arg_funct()"
   ]
  },
  {
   "cell_type": "code",
   "execution_count": 4,
   "metadata": {},
   "outputs": [
    {
     "data": {
      "text/plain": [
       "100"
      ]
     },
     "execution_count": 4,
     "metadata": {},
     "output_type": "execute_result"
    }
   ],
   "source": [
    "# function to retun a value\n",
    "\n",
    "def ret_funct(a,b):\n",
    "    return a ** b\n",
    "\n",
    "ret_funct(b=2, a=10)"
   ]
  },
  {
   "cell_type": "code",
   "execution_count": 5,
   "metadata": {},
   "outputs": [
    {
     "name": "stdout",
     "output_type": "stream",
     "text": [
      "20\n"
     ]
    }
   ],
   "source": [
    "# lambda function\n",
    "\n",
    "x = lambda d,e : d*e\n",
    "\n",
    "print(x(5,4))\n"
   ]
  },
  {
   "cell_type": "code",
   "execution_count": null,
   "metadata": {},
   "outputs": [],
   "source": []
  }
 ],
 "metadata": {
  "kernelspec": {
   "display_name": "Python 3",
   "language": "python",
   "name": "python3"
  },
  "language_info": {
   "codemirror_mode": {
    "name": "ipython",
    "version": 3
   },
   "file_extension": ".py",
   "mimetype": "text/x-python",
   "name": "python",
   "nbconvert_exporter": "python",
   "pygments_lexer": "ipython3",
   "version": "3.7.3"
  }
 },
 "nbformat": 4,
 "nbformat_minor": 2
}
