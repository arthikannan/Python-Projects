{
 "cells": [
  {
   "cell_type": "code",
   "execution_count": 1,
   "metadata": {},
   "outputs": [
    {
     "name": "stdout",
     "output_type": "stream",
     "text": [
      "a    1\n",
      "b    2\n",
      "c    3\n",
      "d    4\n",
      "dtype: int64\n",
      "d    4\n",
      "e    5\n",
      "f    6\n",
      "g    7\n",
      "dtype: int64\n",
      "a    NaN\n",
      "b    NaN\n",
      "c    NaN\n",
      "d    8.0\n",
      "e    NaN\n",
      "f    NaN\n",
      "g    NaN\n",
      "dtype: float64\n",
      "a    NaN\n",
      "b    NaN\n",
      "c    NaN\n",
      "d    8.0\n",
      "e    NaN\n",
      "f    NaN\n",
      "g    NaN\n",
      "dtype: float64\n"
     ]
    }
   ],
   "source": [
    "import numpy as np\n",
    "import pandas as pd\n",
    "\n",
    "ser1 = pd.Series([1,2,3,4],[\"a\",\"b\",\"c\",\"d\"])\n",
    "print(ser1)\n",
    "ser2 = pd.Series([4,5,6,7],[\"d\",\"e\",\"f\",\"g\"])\n",
    "print(ser2)\n",
    "print(ser1 + ser2)\n",
    "print(ser2 + ser1)"
   ]
  },
  {
   "cell_type": "code",
   "execution_count": null,
   "metadata": {},
   "outputs": [],
   "source": []
  }
 ],
 "metadata": {
  "kernelspec": {
   "display_name": "Python 3",
   "language": "python",
   "name": "python3"
  },
  "language_info": {
   "codemirror_mode": {
    "name": "ipython",
    "version": 3
   },
   "file_extension": ".py",
   "mimetype": "text/x-python",
   "name": "python",
   "nbconvert_exporter": "python",
   "pygments_lexer": "ipython3",
   "version": "3.7.3"
  }
 },
 "nbformat": 4,
 "nbformat_minor": 2
}
