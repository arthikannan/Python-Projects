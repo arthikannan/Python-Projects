{
 "cells": [
  {
   "cell_type": "code",
   "execution_count": 1,
   "metadata": {},
   "outputs": [
    {
     "name": "stdout",
     "output_type": "stream",
     "text": [
      "[1, 2, 3] <class 'list'>\n",
      "[1 2 3] <class 'numpy.ndarray'>\n"
     ]
    }
   ],
   "source": [
    "# array from list and list of list\n",
    "import numpy as np\n",
    "a = [1,2,3]\n",
    "b = np.array(a)\n",
    "\n",
    "print(a, type(a))\n",
    "print(b, type(b))\n",
    "\n",
    "my_mat = [[1,2,3],[4,5,6]]\n",
    "my_array = np.array(my_mat)\n",
    "\n",
    "print(my_mat, type(my_mat))\n",
    "print(my_array, type(my_array))"
   ]
  },
  {
   "cell_type": "code",
   "execution_count": 4,
   "metadata": {},
   "outputs": [
    {
     "name": "stdout",
     "output_type": "stream",
     "text": [
      "[ 1  3  5  7  9 11 13 15 17 19 21 23 25 27 29 31 33 35 37 39 41 43 45 47\n",
      " 49]\n",
      "<class 'numpy.ndarray'>\n"
     ]
    }
   ],
   "source": [
    "# array from arange\n",
    "\n",
    "range_array = np.arange(1,50,2)\n",
    "\n",
    "print(range_array)\n",
    "print(type(range_array))"
   ]
  },
  {
   "cell_type": "code",
   "execution_count": 20,
   "metadata": {},
   "outputs": [
    {
     "name": "stdout",
     "output_type": "stream",
     "text": [
      "[0. 0. 0. 0. 0.]\n",
      "[[1. 1. 1.]\n",
      " [1. 1. 1.]]\n"
     ]
    }
   ],
   "source": [
    "# array with 0's and 2's\n",
    "\n",
    "np_zeros = np.zeros(5)\n",
    "np_ones = np.ones((2,3))\n",
    "\n",
    "print(np_zeros)\n",
    "print(np_ones)"
   ]
  },
  {
   "cell_type": "code",
   "execution_count": 8,
   "metadata": {},
   "outputs": [
    {
     "name": "stdout",
     "output_type": "stream",
     "text": [
      "[ 1.          5.45454545  9.90909091 14.36363636 18.81818182 23.27272727\n",
      " 27.72727273 32.18181818 36.63636364 41.09090909 45.54545455 50.        ]\n",
      "[[1. 0. 0. 0.]\n",
      " [0. 1. 0. 0.]\n",
      " [0. 0. 1. 0.]\n",
      " [0. 0. 0. 1.]]\n"
     ]
    }
   ],
   "source": [
    "# array with linspace\n",
    "\n",
    "np_linspace = np.linspace(1,50,12)\n",
    "\n",
    "print(np_linspace)\n",
    "\n",
    "# Identity matrix\n",
    "i = np.eye(4)\n",
    "print(i)"
   ]
  },
  {
   "cell_type": "code",
   "execution_count": 10,
   "metadata": {},
   "outputs": [
    {
     "name": "stdout",
     "output_type": "stream",
     "text": [
      "[ 2.44894433  0.06116082 -0.13362469 -0.80041972]\n",
      "[[-1.7595404  -0.68294506]\n",
      " [-0.33332093 -0.07708882]\n",
      " [ 1.4487334   0.46674288]]\n"
     ]
    }
   ],
   "source": [
    "# array from random module\n",
    "import random\n",
    "\n",
    "np_std = np.random.randn(4)\n",
    "np_std_matrice = np.random.randn(3,2)\n",
    "\n",
    "print(np_std)\n",
    "print(np_std_matrice)"
   ]
  },
  {
   "cell_type": "code",
   "execution_count": 16,
   "metadata": {},
   "outputs": [
    {
     "name": "stdout",
     "output_type": "stream",
     "text": [
      "[34 33 69 43 48 45 50 36 47 83 80 51 57 33 30 81 90 18 47 35]\n",
      "max value 90 and index 16\n",
      "min value 18 and index 17\n",
      "[[34 33 69 43 48]\n",
      " [45 50 36 47 83]\n",
      " [80 51 57 33 30]\n",
      " [81 90 18 47 35]]\n",
      "(20,)\n",
      "(4, 5)\n",
      "[34 33 69 43 48 45 50 36 47 83 80 51 57 33 30 81 90 18 47 35]\n"
     ]
    }
   ],
   "source": [
    "# generate array of random integers and reshape, check max, min, argmax and arg min\n",
    "\n",
    "arr = np.random.randint(1,100,20)\n",
    "print(arr)\n",
    "print(f\"max value {arr.max()} and index {arr.argmax()}\")\n",
    "print(f\"min value {arr.min()} and index {arr.argmin()}\")\n",
    "\n",
    "arr_mat = arr.reshape(4,5)\n",
    "print(arr_mat)\n",
    "print(arr.shape)\n",
    "print(arr_mat.shape)\n",
    "print(arr)"
   ]
  },
  {
   "cell_type": "code",
   "execution_count": 17,
   "metadata": {},
   "outputs": [
    {
     "name": "stdout",
     "output_type": "stream",
     "text": [
      "[ 1  2  3  4  5  6  7  8  9 10 11 12 13 14 15]\n",
      "[ 7  8  9 10 11]\n",
      "[99 99 99 99 99]\n",
      "[ 1  2  3  4  5  6 99 99 99 99 99 12 13 14 15]\n"
     ]
    }
   ],
   "source": [
    "# indexing and slicing an array\n",
    "\n",
    "arr1 = np.arange(1,16)\n",
    "print(arr1)\n",
    "arr2 = arr1[6:11]\n",
    "print(arr2)\n",
    "arr2[:] = 99\n",
    "print(arr2)\n",
    "print(arr1)"
   ]
  },
  {
   "cell_type": "code",
   "execution_count": 18,
   "metadata": {},
   "outputs": [
    {
     "name": "stdout",
     "output_type": "stream",
     "text": [
      "[[ 5 10 15]\n",
      " [20 25 30]\n",
      " [35 40 45]]\n",
      "[[20 25 30]\n",
      " [35 40 45]]\n"
     ]
    }
   ],
   "source": [
    "# indexing and slicing in 2d array\n",
    "arr_2d = np.array([[5,10,15],[20,25,30],[35,40,45]])\n",
    "print(arr_2d)\n",
    "print(arr_2d[1:,:])"
   ]
  },
  {
   "cell_type": "code",
   "execution_count": null,
   "metadata": {},
   "outputs": [],
   "source": []
  }
 ],
 "metadata": {
  "kernelspec": {
   "display_name": "Python 3",
   "language": "python",
   "name": "python3"
  },
  "language_info": {
   "codemirror_mode": {
    "name": "ipython",
    "version": 3
   },
   "file_extension": ".py",
   "mimetype": "text/x-python",
   "name": "python",
   "nbconvert_exporter": "python",
   "pygments_lexer": "ipython3",
   "version": "3.7.3"
  }
 },
 "nbformat": 4,
 "nbformat_minor": 2
}
