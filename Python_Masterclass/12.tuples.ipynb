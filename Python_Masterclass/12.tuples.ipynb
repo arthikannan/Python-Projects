{
 "cells": [
  {
   "cell_type": "code",
   "execution_count": 5,
   "metadata": {},
   "outputs": [
    {
     "name": "stdout",
     "output_type": "stream",
     "text": [
      "('More Mayhem', 'Imily May', 1984)\n",
      "1984\n"
     ]
    }
   ],
   "source": [
    "imelda1 = (\"More Mayhem\", \"Emily May\", 1984)\n",
    "imelda1 = (imelda1[0], \"Imily May\", imelda1[2])\n",
    "print(imelda1)\n",
    "print(imelda1[2])"
   ]
  },
  {
   "cell_type": "code",
   "execution_count": 6,
   "metadata": {},
   "outputs": [
    {
     "name": "stdout",
     "output_type": "stream",
     "text": [
      "More Mayhem\n",
      "Imily May\n",
      "1984\n"
     ]
    }
   ],
   "source": [
    "title, artist, year = imelda1\n",
    "print(title)\n",
    "print(artist)\n",
    "print(year)"
   ]
  },
  {
   "cell_type": "code",
   "execution_count": 14,
   "metadata": {},
   "outputs": [
    {
     "name": "stdout",
     "output_type": "stream",
     "text": [
      "album details:\t More Mayhem Imelda May 2011\n",
      "\t (1, 'Pilling the Rug')\n",
      "\t (2, 'Psycho')\n",
      "\t (3, 'Mayhem')\n",
      "\t (4, 'Kentish Town Waltz')\n"
     ]
    }
   ],
   "source": [
    "#mini challenge in tuple\n",
    "\n",
    "imelda = \"More Mayhem\", \"Imelda May\", 2011, ((1, \"Pilling the Rug\"), (2, \"Psycho\"),\n",
    "                                            (3, \"Mayhem\"), (4, \"Kentish Town Waltz\"))\n",
    "\n",
    "title, artist, year, tracks = imelda\n",
    "print(\"album details:\\t\", title, artist, year)\n",
    "\n",
    "#print(\"tracks:\\t\",tracks[0], \"\\t\",tracks[1],\"\\t\",tracks[2],\"\\t\",tracks[3])\n",
    "\n",
    "for song in tracks:\n",
    "    print(\"\\t\", song)"
   ]
  },
  {
   "cell_type": "code",
   "execution_count": null,
   "metadata": {},
   "outputs": [],
   "source": []
  }
 ],
 "metadata": {
  "kernelspec": {
   "display_name": "Python 3",
   "language": "python",
   "name": "python3"
  },
  "language_info": {
   "codemirror_mode": {
    "name": "ipython",
    "version": 3
   },
   "file_extension": ".py",
   "mimetype": "text/x-python",
   "name": "python",
   "nbconvert_exporter": "python",
   "pygments_lexer": "ipython3",
   "version": "3.7.3"
  }
 },
 "nbformat": 4,
 "nbformat_minor": 2
}
