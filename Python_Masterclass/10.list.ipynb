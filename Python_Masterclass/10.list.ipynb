{
 "cells": [
  {
   "cell_type": "code",
   "execution_count": 7,
   "metadata": {},
   "outputs": [
    {
     "name": "stdout",
     "output_type": "stream",
     "text": [
      "[1, 3, 5, 7, 9, 2, 4, 6, 8, 10]\n",
      "the lists are not equal\n",
      "the lists are equla\n"
     ]
    }
   ],
   "source": [
    "odd=[1,3,5,7,9]\n",
    "even=[2,4,6,8,10]\n",
    "\n",
    "numbers=odd+even\n",
    "ordered_numbers=sorted(numbers)\n",
    "print(numbers)\n",
    "\n",
    "if numbers == ordered_numbers:\n",
    "    print(\"the lists are equla\")\n",
    "else:\n",
    "    print(\"the lists are not equal\")\n",
    "    \n",
    "numbers.sort()\n",
    "if numbers == ordered_numbers:\n",
    "    print(\"the lists are equla\")\n",
    "else:\n",
    "    print(\"the lists are not equal\")"
   ]
  },
  {
   "cell_type": "code",
   "execution_count": 3,
   "metadata": {},
   "outputs": [
    {
     "name": "stdout",
     "output_type": "stream",
     "text": [
      "['milk', 'eggs', 'apple', 'cake']\n",
      "4\n"
     ]
    }
   ],
   "source": [
    "shopping_list = [\"milk\", 'eggs', \"apple\" ]\n",
    "shopping_list.append(\"cake\")\n",
    "print(shopping_list)\n",
    "print(len(shopping_list))"
   ]
  },
  {
   "cell_type": "code",
   "execution_count": 15,
   "metadata": {},
   "outputs": [
    {
     "name": "stdout",
     "output_type": "stream",
     "text": [
      "[[1, 3, 5, 7, 9], [2, 4, 6, 8, 10]]\n",
      "[1, 3, 5, 7, 9]\n",
      "1\n",
      "3\n",
      "5\n",
      "7\n",
      "9\n",
      "[2, 4, 6, 8, 10]\n",
      "2\n",
      "4\n",
      "6\n",
      "8\n",
      "10\n"
     ]
    }
   ],
   "source": [
    "odd=[1,3,5,7,9]\n",
    "even=[2,4,6,8,10]\n",
    "\n",
    "number_list = [odd,even]\n",
    "\n",
    "print(number_list)\n",
    "\n",
    "for num in number_list:\n",
    "    print(num)\n",
    "    for val in num:\n",
    "        print (val)"
   ]
  },
  {
   "cell_type": "code",
   "execution_count": 17,
   "metadata": {},
   "outputs": [
    {
     "name": "stdout",
     "output_type": "stream",
     "text": [
      "['egg', 'sausage', 'bacon']\n",
      "egg\n",
      "sausage\n",
      "bacon\n"
     ]
    }
   ],
   "source": [
    "# mini challenge to print the elements of meal option without spam\n",
    "\n",
    "menu=[]\n",
    "menu.append(['egg','spam','bacon'])\n",
    "menu.append(['egg','sausage','bacon'])\n",
    "menu.append(['egg','spam'])\n",
    "menu.append(['egg','bacon','spam'])\n",
    "menu.append(['egg', 'bacon', 'sausage', 'spam'])\n",
    "menu.append(['spam','bacon', 'sausage', 'spam'])\n",
    "menu.append(['egg','spam','bacon'])\n",
    "\n",
    "for meal in menu:\n",
    "    if \"spam\" not in meal:\n",
    "        print(meal)\n",
    "        for options in meal:\n",
    "            print(options)"
   ]
  },
  {
   "cell_type": "code",
   "execution_count": 20,
   "metadata": {},
   "outputs": [
    {
     "name": "stdout",
     "output_type": "stream",
     "text": [
      "parrot\n",
      "eagle\n",
      "owl\n",
      "crow\n",
      "peacock\n",
      "parrot\n",
      "eagle\n",
      "owl\n",
      "crow\n",
      "peacock\n"
     ]
    }
   ],
   "source": [
    "# Program using iter()\n",
    "\n",
    "birds = [\"parrot\", \"eagle\", \"owl\", \"crow\", \"peacock\"]\n",
    "\n",
    "n = len(birds)\n",
    "iter_birds = iter(birds)\n",
    "\n",
    "for i in range(n):\n",
    "    print(next(iter_birds))\n",
    "\n",
    "# both returns the same results\n",
    "for i in birds:\n",
    "    print(i)"
   ]
  },
  {
   "cell_type": "code",
   "execution_count": null,
   "metadata": {},
   "outputs": [],
   "source": []
  }
 ],
 "metadata": {
  "kernelspec": {
   "display_name": "Python 3",
   "language": "python",
   "name": "python3"
  },
  "language_info": {
   "codemirror_mode": {
    "name": "ipython",
    "version": 3
   },
   "file_extension": ".py",
   "mimetype": "text/x-python",
   "name": "python",
   "nbconvert_exporter": "python",
   "pygments_lexer": "ipython3",
   "version": "3.7.3"
  }
 },
 "nbformat": 4,
 "nbformat_minor": 2
}
