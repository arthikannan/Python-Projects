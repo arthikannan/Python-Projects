{
 "cells": [
  {
   "cell_type": "code",
   "execution_count": 5,
   "metadata": {},
   "outputs": [
    {
     "name": "stdout",
     "output_type": "stream",
     "text": [
      "w\n",
      "e\n",
      " \n",
      "w\n",
      "i\n",
      "n\n"
     ]
    }
   ],
   "source": [
    "parrot = \"Norwegian Blue\"\n",
    "print(parrot[3])\n",
    "print(parrot[4])\n",
    "print(parrot[9])\n",
    "print(parrot[3])\n",
    "print(parrot[6])\n",
    "print(parrot[8])"
   ]
  },
  {
   "cell_type": "code",
   "execution_count": 7,
   "metadata": {},
   "outputs": [
    {
     "name": "stdout",
     "output_type": "stream",
     "text": [
      "w\n",
      "e\n",
      " \n",
      "w\n",
      "i\n",
      "n\n"
     ]
    }
   ],
   "source": [
    "print(parrot[-11])\n",
    "print(parrot[-10])\n",
    "print(parrot[-5])\n",
    "print(parrot[-11])\n",
    "print(parrot[-8])\n",
    "print(parrot[-6])"
   ]
  },
  {
   "cell_type": "code",
   "execution_count": 8,
   "metadata": {},
   "outputs": [
    {
     "name": "stdout",
     "output_type": "stream",
     "text": [
      "w\n",
      "e\n",
      " \n",
      "w\n",
      "i\n",
      "n\n"
     ]
    }
   ],
   "source": [
    "print(parrot[3-14])\n",
    "print(parrot[4-14])\n",
    "print(parrot[9-14])\n",
    "print(parrot[3-14])\n",
    "print(parrot[6-14])\n",
    "print(parrot[8-14])"
   ]
  },
  {
   "cell_type": "code",
   "execution_count": 9,
   "metadata": {},
   "outputs": [
    {
     "name": "stdout",
     "output_type": "stream",
     "text": [
      "Norwegian\n"
     ]
    }
   ],
   "source": [
    "print(parrot[0:9])"
   ]
  },
  {
   "cell_type": "code",
   "execution_count": 11,
   "metadata": {},
   "outputs": [
    {
     "name": "stdout",
     "output_type": "stream",
     "text": [
      "Blue\n"
     ]
    }
   ],
   "source": [
    "print(parrot[10:])"
   ]
  },
  {
   "cell_type": "code",
   "execution_count": 12,
   "metadata": {},
   "outputs": [
    {
     "name": "stdout",
     "output_type": "stream",
     "text": [
      "Nre\n"
     ]
    }
   ],
   "source": [
    "print(parrot[0:6:2])"
   ]
  },
  {
   "cell_type": "code",
   "execution_count": 13,
   "metadata": {},
   "outputs": [
    {
     "name": "stdout",
     "output_type": "stream",
     "text": [
      "Blue\n"
     ]
    }
   ],
   "source": [
    "print(parrot[-4:])"
   ]
  },
  {
   "cell_type": "code",
   "execution_count": 15,
   "metadata": {},
   "outputs": [
    {
     "name": "stdout",
     "output_type": "stream",
     "text": [
      "zyxwvutsrqponmlkjihgfedcba\n",
      "zyxwvutsrqponmlkjihgfedcba\n"
     ]
    }
   ],
   "source": [
    "letters =\"abcdefghijklmnopqrstuvwxyz\"\n",
    "print(letters[25::-1])\n",
    "print(letters[::-1])"
   ]
  },
  {
   "cell_type": "code",
   "execution_count": 17,
   "metadata": {},
   "outputs": [
    {
     "name": "stdout",
     "output_type": "stream",
     "text": [
      "qpo\n",
      "edcba\n",
      "zyxwvuts\n"
     ]
    }
   ],
   "source": [
    "print(letters[16:13:-1])\n",
    "print(letters[4::-1])\n",
    "print(letters[-1:-9:-1])"
   ]
  },
  {
   "cell_type": "code",
   "execution_count": 19,
   "metadata": {},
   "outputs": [
    {
     "name": "stdout",
     "output_type": "stream",
     "text": [
      "he's probably working\n"
     ]
    }
   ],
   "source": [
    "string1 = \"he's\"\n",
    "string2 = \"probably\"\n",
    "string3 = \"working\"\n",
    "print(string1, string2, string3)\n",
    "print(string1 + string2 + string3)"
   ]
  },
  {
   "cell_type": "code",
   "execution_count": 20,
   "metadata": {},
   "outputs": [
    {
     "name": "stdout",
     "output_type": "stream",
     "text": [
      "workingworkingworking\n"
     ]
    }
   ],
   "source": [
    "print(string3 * 3)"
   ]
  },
  {
   "cell_type": "code",
   "execution_count": 21,
   "metadata": {},
   "outputs": [
    {
     "name": "stdout",
     "output_type": "stream",
     "text": [
      "working working working \n"
     ]
    }
   ],
   "source": [
    "print((string3 + \" \") * 3)"
   ]
  },
  {
   "cell_type": "code",
   "execution_count": 22,
   "metadata": {},
   "outputs": [
    {
     "name": "stdout",
     "output_type": "stream",
     "text": [
      "True\n"
     ]
    }
   ],
   "source": [
    "print(\"day\" in \"friday\")"
   ]
  },
  {
   "cell_type": "code",
   "execution_count": 23,
   "metadata": {},
   "outputs": [
    {
     "name": "stdout",
     "output_type": "stream",
     "text": [
      "False\n"
     ]
    }
   ],
   "source": [
    "print(\"month\" in \"friday\")"
   ]
  },
  {
   "cell_type": "code",
   "execution_count": 25,
   "metadata": {},
   "outputs": [
    {
     "name": "stdout",
     "output_type": "stream",
     "text": [
      "My age is 24 years\n",
      "my age is 24 years\n",
      "my age is 24 years\n"
     ]
    }
   ],
   "source": [
    "age =24\n",
    "print(\"My age is \" + str(age) + \" years\")\n",
    "print(f\"my age is {str(age)} years\")\n",
    "print(\"my age is {0} years\".format(age) )"
   ]
  },
  {
   "cell_type": "code",
   "execution_count": 26,
   "metadata": {},
   "outputs": [
    {
     "name": "stdout",
     "output_type": "stream",
     "text": [
      "there are 31 days in Jan\n"
     ]
    }
   ],
   "source": [
    "print(\"there are {0} days in {1}\".format(31,\"Jan\"))"
   ]
  },
  {
   "cell_type": "code",
   "execution_count": 30,
   "metadata": {},
   "outputs": [
    {
     "name": "stdout",
     "output_type": "stream",
     "text": [
      "No.  1 squared is    1 and cubed is    1\n"
     ]
    }
   ],
   "source": [
    "print(\"No. {0:2} squared is {1:4} and cubed is {2:4}\".format(1, 1**2, 1**3))"
   ]
  },
  {
   "cell_type": "code",
   "execution_count": 33,
   "metadata": {},
   "outputs": [
    {
     "name": "stdout",
     "output_type": "stream",
     "text": [
      "No.  5 squared is 25   and cubed is 125 \n"
     ]
    }
   ],
   "source": [
    "print(\"No. {0:>2} squared is {1:<4} and cubed is {2:^4}\".format(5, 5**2, 5**3))"
   ]
  },
  {
   "cell_type": "code",
   "execution_count": 34,
   "metadata": {},
   "outputs": [
    {
     "name": "stdout",
     "output_type": "stream",
     "text": [
      "pie 3.14285714285714279370154144999105483293533325195312\n"
     ]
    }
   ],
   "source": [
    "print(\"pie {0:12.50f}\".format(22/7))"
   ]
  },
  {
   "cell_type": "code",
   "execution_count": 36,
   "metadata": {},
   "outputs": [
    {
     "name": "stdout",
     "output_type": "stream",
     "text": [
      "pie           3.14285714285714279370154144999105483293533325195312          \n"
     ]
    }
   ],
   "source": [
    "print(\"pie {0:72.50f}\".format(22/7))"
   ]
  },
  {
   "cell_type": "code",
   "execution_count": 37,
   "metadata": {},
   "outputs": [
    {
     "name": "stdout",
     "output_type": "stream",
     "text": [
      "No.  1 squared is    1 and cubed is    1\n"
     ]
    }
   ],
   "source": [
    "print(\"No. {:2} squared is {:4} and cubed is {:4}\".format(1, 1**2, 1**3))"
   ]
  },
  {
   "cell_type": "code",
   "execution_count": 39,
   "metadata": {},
   "outputs": [
    {
     "name": "stdout",
     "output_type": "stream",
     "text": [
      "pie 3.14285714285714279370154144999105483293533325195312                    \n"
     ]
    }
   ],
   "source": [
    "p=22/7\n",
    "print(f\"pie {p:<72.50f}\")"
   ]
  },
  {
   "cell_type": "code",
   "execution_count": null,
   "metadata": {},
   "outputs": [],
   "source": []
  }
 ],
 "metadata": {
  "kernelspec": {
   "display_name": "Python 3",
   "language": "python",
   "name": "python3"
  },
  "language_info": {
   "codemirror_mode": {
    "name": "ipython",
    "version": 3
   },
   "file_extension": ".py",
   "mimetype": "text/x-python",
   "name": "python",
   "nbconvert_exporter": "python",
   "pygments_lexer": "ipython3",
   "version": "3.7.3"
  }
 },
 "nbformat": 4,
 "nbformat_minor": 2
}
