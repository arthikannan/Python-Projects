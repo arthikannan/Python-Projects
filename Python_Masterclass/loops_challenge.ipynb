{
 "cells": [
  {
   "cell_type": "code",
   "execution_count": null,
   "metadata": {},
   "outputs": [
    {
     "name": "stdout",
     "output_type": "stream",
     "text": [
      "Please select an option from the list:\n",
      "        1. Learn Python\n",
      "        2. Learn Java\n",
      "        3. Go Swimming\n",
      "        4. Have dinner\n",
      "        5. Go to bed\n",
      "        0. Exit\n",
      "7\n",
      "Please select an option from the list:\n",
      "        1. Learn Python\n",
      "        2. Learn Java\n",
      "        3. Go Swimming\n",
      "        4. Have dinner\n",
      "        5. Go to bed\n",
      "        0. Exit\n"
     ]
    }
   ],
   "source": [
    "guess = True\n",
    "\n",
    "while True:\n",
    "    \n",
    "    if guess:\n",
    "        print(\"\"\"Please select an option from the list:\n",
    "        1. Learn Python\n",
    "        2. Learn Java\n",
    "        3. Go Swimming\n",
    "        4. Have dinner\n",
    "        5. Go to bed\n",
    "        0. Exit\"\"\")\n",
    "    \n",
    "    choice = int(input(\"\"))\n",
    "    \n",
    "    if choice in range (1,6):\n",
    "        print(f\"You have selected option {choice}\")\n",
    "        guess = False\n",
    "    elif choice == 0:\n",
    "        break\n",
    "    elif choice not in range(0,6):\n",
    "        guess = True\n",
    "        \n",
    "    \n"
   ]
  },
  {
   "cell_type": "code",
   "execution_count": null,
   "metadata": {},
   "outputs": [],
   "source": []
  }
 ],
 "metadata": {
  "kernelspec": {
   "display_name": "Python 3",
   "language": "python",
   "name": "python3"
  },
  "language_info": {
   "codemirror_mode": {
    "name": "ipython",
    "version": 3
   },
   "file_extension": ".py",
   "mimetype": "text/x-python",
   "name": "python",
   "nbconvert_exporter": "python",
   "pygments_lexer": "ipython3",
   "version": "3.7.3"
  }
 },
 "nbformat": 4,
 "nbformat_minor": 2
}
