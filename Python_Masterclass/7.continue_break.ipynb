{
 "cells": [
  {
   "cell_type": "code",
   "execution_count": 1,
   "metadata": {},
   "outputs": [
    {
     "name": "stdout",
     "output_type": "stream",
     "text": [
      "Buy milk\n",
      "Buy pasta\n",
      "Buy eggs\n",
      "Buy bread\n",
      "Buy rice\n"
     ]
    }
   ],
   "source": [
    "#Program to skip an item using continue\n",
    "\n",
    "shopping_list = [\"milk\",\"pasta\",\"eggs\",\"spam\",\"bread\",\"rice\"]\n",
    "\n",
    "for item in shopping_list:\n",
    "    if item == \"spam\":\n",
    "        continue\n",
    "    \n",
    "    print(f\"Buy {item}\")"
   ]
  },
  {
   "cell_type": "code",
   "execution_count": 7,
   "metadata": {},
   "outputs": [
    {
     "name": "stdout",
     "output_type": "stream",
     "text": [
      "found at 3\n"
     ]
    }
   ],
   "source": [
    "#Program to search for item using break\n",
    "\n",
    "item_to_find = \"spam\"\n",
    "found_at = None\n",
    "for index in range(len(shopping_list)):\n",
    "    if shopping_list[index] == item_to_find:\n",
    "        found_at = index\n",
    "        break\n",
    "\n",
    "if found_at != None:\n",
    "    print(f\"found at {found_at}\")\n",
    "else:\n",
    "    print(f\"{item_to_find} not found\")"
   ]
  },
  {
   "cell_type": "code",
   "execution_count": null,
   "metadata": {},
   "outputs": [],
   "source": []
  }
 ],
 "metadata": {
  "kernelspec": {
   "display_name": "Python 3",
   "language": "python",
   "name": "python3"
  },
  "language_info": {
   "codemirror_mode": {
    "name": "ipython",
    "version": 3
   },
   "file_extension": ".py",
   "mimetype": "text/x-python",
   "name": "python",
   "nbconvert_exporter": "python",
   "pygments_lexer": "ipython3",
   "version": "3.7.3"
  }
 },
 "nbformat": 4,
 "nbformat_minor": 2
}
