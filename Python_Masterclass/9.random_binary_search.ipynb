{
 "cells": [
  {
   "cell_type": "code",
   "execution_count": 8,
   "metadata": {},
   "outputs": [
    {
     "name": "stdout",
     "output_type": "stream",
     "text": [
      "2\n",
      "Enter a number between 1 and 10 or 0 to quit: 0\n",
      "The Game ends!\n"
     ]
    }
   ],
   "source": [
    "# Guessing game with while loop, option to enter 0 to quit, keep guessing until they get it right\n",
    "\n",
    "import random\n",
    "\n",
    "highest = 10\n",
    "quit = 0\n",
    "answer = random.randint(1,highest)\n",
    "\n",
    "print(answer)\n",
    "\n",
    "guess = int(input(f\"Enter a number between 1 and {highest} or {quit} to quit: \"))\n",
    "\n",
    "if guess == 0: \n",
    "    count = 0\n",
    "else:\n",
    "    count = 1\n",
    "\n",
    "while answer != guess:\n",
    "    if guess == quit:\n",
    "        print(\"The Game ends!\")\n",
    "        break\n",
    "    elif guess < answer:\n",
    "        guess = int(input(f\"Enter a number higher or {quit} to quit: \"))\n",
    "    else:\n",
    "        guess = int(input(f\"Enter a number lower or {quit} to quit: \"))\n",
    "    count += 1\n",
    "    \n",
    "if count == 1:\n",
    "    print(\"You guessed it in the first try!\")\n",
    "elif count > 1:\n",
    "    print(f\"You took {count} turns to guess\")\n",
    "        "
   ]
  },
  {
   "cell_type": "code",
   "execution_count": 1,
   "metadata": {},
   "outputs": [
    {
     "name": "stdout",
     "output_type": "stream",
     "text": [
      "Please think of a number between 1 and 1000\n",
      "Press Enter to start\n",
      "\tGuessing in the range of 1 and 1000\n",
      "My guess is 500. Should I guess higher or lower? Enter h or l or c for correcth\n",
      "\tGuessing in the range of 501 and 1000\n",
      "My guess is 750. Should I guess higher or lower? Enter h or l or c for correcth\n",
      "\tGuessing in the range of 751 and 1000\n",
      "My guess is 875. Should I guess higher or lower? Enter h or l or c for correcth\n",
      "\tGuessing in the range of 876 and 1000\n",
      "My guess is 938. Should I guess higher or lower? Enter h or l or c for correcth\n",
      "\tGuessing in the range of 939 and 1000\n",
      "My guess is 969. Should I guess higher or lower? Enter h or l or c for correcth\n",
      "\tGuessing in the range of 970 and 1000\n",
      "My guess is 985. Should I guess higher or lower? Enter h or l or c for correcth\n",
      "\tGuessing in the range of 986 and 1000\n",
      "My guess is 993. Should I guess higher or lower? Enter h or l or c for correcth\n",
      "\tGuessing in the range of 994 and 1000\n",
      "My guess is 997. Should I guess higher or lower? Enter h or l or c for correctc\n",
      "I guessed it in 8 guesses\n"
     ]
    }
   ],
   "source": [
    "# Hilo game using binary search algorithm\n",
    "\n",
    "low = 1\n",
    "high = 1000\n",
    "\n",
    "print(f\"Please think of a number between {low} and {high}\")\n",
    "input(\"Press Enter to start\")\n",
    "\n",
    "guesses = 1\n",
    "\n",
    "while True:\n",
    "    print (f\"\\tGuessing in the range of {low} and {high}\")\n",
    "    guess = low + (high-low) // 2\n",
    "    high_low = input(f\"My guess is {guess}. Should I guess higher or lower?\"\n",
    "                    \" Enter h or l or c for correct\").casefold()\n",
    "    \n",
    "    if high_low == \"h\":\n",
    "        low = guess + 1\n",
    "    elif high_low == 'l':\n",
    "        high = guess - 1\n",
    "    elif high_low == 'c':\n",
    "        print(f\"I guessed it in {guesses} guesses\")\n",
    "        break\n",
    "    \n",
    "    guesses += 1"
   ]
  },
  {
   "cell_type": "code",
   "execution_count": 5,
   "metadata": {},
   "outputs": [
    {
     "name": "stdout",
     "output_type": "stream",
     "text": [
      "40\n"
     ]
    }
   ],
   "source": [
    "# Program to perform multiplication through repeated addition using augmented assignment\n",
    "\n",
    "number = 5\n",
    "multiplier = 8\n",
    "answer = 0\n",
    " \n",
    "# add your loop after this comment\n",
    "for i in range(multiplier):\n",
    "    answer += number\n",
    " \n",
    "print(answer)\n"
   ]
  },
  {
   "cell_type": "code",
   "execution_count": null,
   "metadata": {},
   "outputs": [],
   "source": []
  }
 ],
 "metadata": {
  "kernelspec": {
   "display_name": "Python 3",
   "language": "python",
   "name": "python3"
  },
  "language_info": {
   "codemirror_mode": {
    "name": "ipython",
    "version": 3
   },
   "file_extension": ".py",
   "mimetype": "text/x-python",
   "name": "python",
   "nbconvert_exporter": "python",
   "pygments_lexer": "ipython3",
   "version": "3.7.3"
  }
 },
 "nbformat": 4,
 "nbformat_minor": 2
}
