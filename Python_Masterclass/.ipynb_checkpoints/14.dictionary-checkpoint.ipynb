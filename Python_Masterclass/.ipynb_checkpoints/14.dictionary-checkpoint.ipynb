{
 "cells": [
  {
   "cell_type": "code",
   "execution_count": 2,
   "metadata": {},
   "outputs": [
    {
     "name": "stdout",
     "output_type": "stream",
     "text": [
      "{'lemon': 'yellow citrus fruit', 'apple': 'red or green, good for eyesight', 'orange': 'orange citrus fruit', 'banana': 'yellow fiberous fruit'}\n",
      "red or green, good for eyesight\n",
      "yellow citrus fruit\n",
      "red or green, good for eyesight\n",
      "orange citrus fruit\n",
      "yellow fiberous fruit\n",
      "{'lemon': 'yellow citrus fruit', 'apple': 'red or green, good for eyesight', 'orange': 'orange citrus fruit', 'banana': 'yellow fiberous fruit', 'kiwi': 'green color tropical fruit', 'avacado': 'green color buttery fruit', 'guava': 'light green sour fruit '}\n",
      "dict_keys(['lemon', 'apple', 'orange', 'banana', 'kiwi', 'avacado', 'guava'])\n",
      "{'lemon': 'yellow citrus fruit', 'apple': 'red or green, good for eyesight', 'orange': 'orange citrus fruit', 'kiwi': 'green color tropical fruit', 'avacado': 'green color buttery fruit', 'guava': 'light green sour fruit '}\n",
      "None\n",
      "red or green, good for eyesight\n"
     ]
    }
   ],
   "source": [
    "fruits = {\"lemon\": \"yellow citrus fruit\", \"apple\": \"red or green, good for eyesight\",\n",
    "          \"orange\": \"orange citrus fruit\", \"banana\": \"yellow fiberous fruit\"}\n",
    "print(fruits)\n",
    "print(fruits[\"apple\"])\n",
    "\n",
    "for fruit in fruits:\n",
    "    print(fruits[fruit])\n",
    "    \n",
    "fruits[\"kiwi\"] = \"green color tropical fruit\"\n",
    "fruits[\"avacado\"] = \"green color buttery fruit\"\n",
    "fruits[\"guava\"] = \"light green sour fruit \"\n",
    "\n",
    "print(fruits)\n",
    "print(fruits.keys())\n",
    "\n",
    "del fruits[\"banana\"]\n",
    "print(fruits)\n",
    "\n",
    "print(fruits.get(\"banana\"))\n",
    "print(fruits.get(\"apple\"))"
   ]
  },
  {
   "cell_type": "code",
   "execution_count": 4,
   "metadata": {},
   "outputs": [
    {
     "name": "stdout",
     "output_type": "stream",
     "text": [
      "Please enter a fruit or quit: tomato\n",
      "tomato not found\n",
      "Please enter a fruit or quit: apple\n",
      "red or green, good for eyesight\n",
      "Please enter a fruit or quit: quit\n"
     ]
    }
   ],
   "source": [
    "# program to get the user input for key and print the value\n",
    "fruits = {\"lemon\": \"yellow citrus fruit\", \"apple\": \"red or green, good for eyesight\",\n",
    "          \"orange\": \"orange citrus fruit\", \"banana\": \"yellow fiberous fruit\"}\n",
    "\n",
    "while True:\n",
    "    \n",
    "    dict_key = input(\"Please enter a fruit or quit: \")\n",
    "    if dict_key == \"quit\":\n",
    "        break\n",
    "    else:\n",
    "        desc = fruits.get(dict_key, f\"{dict_key} not found\")\n",
    "        print(desc)\n",
    "#         if desc == None:\n",
    "#             print(f\"{dict_key} not found\")\n",
    "#         else:\n",
    "#             print(desc)\n",
    "    \n",
    "\n"
   ]
  },
  {
   "cell_type": "code",
   "execution_count": 6,
   "metadata": {},
   "outputs": [
    {
     "name": "stdout",
     "output_type": "stream",
     "text": [
      "red or green, good for eyesight\n",
      "yellow fiberous fruit\n",
      "yellow citrus fruit\n",
      "orange citrus fruit\n"
     ]
    }
   ],
   "source": [
    "# program to sort tje dict keys\n",
    "\n",
    "fruits = {\"lemon\": \"yellow citrus fruit\", \"apple\": \"red or green, good for eyesight\",\n",
    "          \"orange\": \"orange citrus fruit\", \"banana\": \"yellow fiberous fruit\"}\n",
    "\n",
    "for f in sorted(fruits.keys()):\n",
    "    print (fruits[f])"
   ]
  },
  {
   "cell_type": "code",
   "execution_count": 8,
   "metadata": {},
   "outputs": [
    {
     "name": "stdout",
     "output_type": "stream",
     "text": [
      "a,b,c,d\n",
      "a,b,c,d,e,f,g,h,i,j,k,l,m,n,o,p,q,r,s,t,u,v,w,x,y,z\n"
     ]
    }
   ],
   "source": [
    "my_list = [\"a\",\"b\",\"c\",\"d\"]\n",
    "letters = \"abcdefghijklmnopqrstuvwxyz\"\n",
    "new_string = \",\".join(my_list)\n",
    "new_letters = \",\".join(letters)\n",
    "print(new_string)\n",
    "print(new_letters)\n",
    "\n"
   ]
  },
  {
   "cell_type": "code",
   "execution_count": 16,
   "metadata": {},
   "outputs": [
    {
     "name": "stdout",
     "output_type": "stream",
     "text": [
      "You are standing at the end of a road before a small brick building\n",
      "W,E,N,S,Q\n",
      "Choose the exit q\n",
      "You are sitting in front of the computer learning Python\n",
      "Q\n",
      "Game Over\n"
     ]
    }
   ],
   "source": [
    "#Adventure game challenge\n",
    "\n",
    "locations = {0: \"You are sitting in front of the computer learning Python\",\n",
    "             1: \"You are standing at the end of a road before a small brick building\",\n",
    "             2: \"You are the top of a hill\",\n",
    "             3: \"You are inside a building, a well house for a small stream\",\n",
    "             4: \"You are in a valley beside a stream\",\n",
    "             5: \"You are in the forest\"}\n",
    "exits = {0: {\"Q\": 0},\n",
    "         1: {\"W\": 2, \"E\": 3, \"N\": 5, \"S\":4, \"Q\":0},\n",
    "         2: {\"N\": 5, \"Q\": 0},\n",
    "         3: {\"W\": 1, \"Q\": 0},\n",
    "         4: {\"N\": 1, \"W\": 2, \"Q\": 0},\n",
    "         5: {\"W\": 2, \"S\": 1, \"Q\": 0}}\n",
    "\n",
    "loc=1\n",
    "\n",
    "while True:\n",
    "    available_exits = \",\" .join(exits[loc].keys())\n",
    "    print(locations[loc])\n",
    "    print(available_exits)\n",
    "    \n",
    "    if loc == 0:\n",
    "        print(\"Game Over\")\n",
    "        break\n",
    "        \n",
    "    option = input(\"Choose the exit \").upper()\n",
    "    \n",
    "    \n",
    "    if loc not in locations.keys():\n",
    "        print(\"you cannot go in that direction, start from the beginning\")\n",
    "        loc = 1\n",
    "    else:\n",
    "        loc = exits[loc][option]\n",
    "        "
   ]
  },
  {
   "cell_type": "code",
   "execution_count": null,
   "metadata": {},
   "outputs": [],
   "source": []
  },
  {
   "cell_type": "code",
   "execution_count": null,
   "metadata": {},
   "outputs": [],
   "source": []
  }
 ],
 "metadata": {
  "kernelspec": {
   "display_name": "Python 3",
   "language": "python",
   "name": "python3"
  },
  "language_info": {
   "codemirror_mode": {
    "name": "ipython",
    "version": 3
   },
   "file_extension": ".py",
   "mimetype": "text/x-python",
   "name": "python",
   "nbconvert_exporter": "python",
   "pygments_lexer": "ipython3",
   "version": "3.7.3"
  }
 },
 "nbformat": 4,
 "nbformat_minor": 2
}
