{
 "cells": [
  {
   "cell_type": "code",
   "execution_count": 5,
   "metadata": {},
   "outputs": [
    {
     "name": "stdout",
     "output_type": "stream",
     "text": [
      "time.struct_time(tm_year=1970, tm_mon=1, tm_mday=1, tm_hour=0, tm_min=0, tm_sec=0, tm_wday=3, tm_yday=1, tm_isdst=0)\n",
      "time.struct_time(tm_year=2020, tm_mon=4, tm_mday=28, tm_hour=13, tm_min=2, tm_sec=8, tm_wday=1, tm_yday=119, tm_isdst=1)\n",
      "1588093328.151334\n",
      "time.struct_time(tm_year=2020, tm_mon=4, tm_mday=28, tm_hour=17, tm_min=2, tm_sec=8, tm_wday=1, tm_yday=119, tm_isdst=0)\n",
      "time.struct_time(tm_year=2020, tm_mon=4, tm_mday=28, tm_hour=13, tm_min=2, tm_sec=8, tm_wday=1, tm_yday=119, tm_isdst=1)\n",
      "time.struct_time(tm_year=1969, tm_mon=12, tm_mday=31, tm_hour=19, tm_min=0, tm_sec=0, tm_wday=2, tm_yday=365, tm_isdst=0)\n"
     ]
    }
   ],
   "source": [
    "import time\n",
    "\n",
    "print(time.gmtime(0))\n",
    "\n",
    "print(time.localtime())\n",
    "\n",
    "print(time.time())\n",
    "\n",
    "print(time.gmtime())\n",
    "\n",
    "print(time.localtime(time.time()))\n",
    "\n",
    "print(time.localtime(0))"
   ]
  },
  {
   "cell_type": "code",
   "execution_count": 6,
   "metadata": {},
   "outputs": [
    {
     "name": "stdout",
     "output_type": "stream",
     "text": [
      "Year:  2020 2020\n",
      "Month:  4 4\n",
      "Day:  28 28\n"
     ]
    }
   ],
   "source": [
    "#access parts of the time\n",
    "\n",
    "import time\n",
    "\n",
    "local_time = time.localtime()\n",
    "\n",
    "print(\"Year: \", local_time.tm_year, local_time[0])\n",
    "print(\"Month: \", local_time.tm_mon, local_time[1])\n",
    "print(\"Day: \", local_time.tm_mday, local_time[2])\n",
    "\n",
    "\n"
   ]
  },
  {
   "cell_type": "code",
   "execution_count": 27,
   "metadata": {},
   "outputs": [
    {
     "name": "stdout",
     "output_type": "stream",
     "text": [
      "Press Entre to start \n",
      "Press Enter to Stop \n",
      "Start time is 14:19:48\n",
      "End time is 14:19:49\n",
      "Time taken to respond is  1.15934419631958\n"
     ]
    }
   ],
   "source": [
    "# game to calc elapsed time\n",
    "\n",
    "import time\n",
    "from time import time as my_timer \n",
    "import random\n",
    "\n",
    "input(\"Press Entre to start \")\n",
    "\n",
    "wait_time = random.randint(1,10)\n",
    "\n",
    "time.sleep(wait_time)\n",
    "\n",
    "start_time = my_timer()\n",
    "input(\"Press Enter to Stop \")\n",
    "\n",
    "end_time = my_timer()\n",
    "\n",
    "local_start = time.strftime(\"%X\", time.localtime(start_time))\n",
    "local_end = time.strftime(\"%X\", time.localtime(end_time))\n",
    "\n",
    "\n",
    "print(f\"Start time is {local_start}\")\n",
    "print(f\"End time is {local_end}\")\n",
    "print(f\"Time taken to respond is  {end_time-start_time}\")"
   ]
  },
  {
   "cell_type": "code",
   "execution_count": 32,
   "metadata": {},
   "outputs": [
    {
     "name": "stdout",
     "output_type": "stream",
     "text": [
      "namespace(adjustable=False, implementation='GetTickCount64()', monotonic=True, resolution=0.015625)\n"
     ]
    }
   ],
   "source": [
    "clock_info = time.get_clock_info('monotonic')\n",
    "print(clock_info)"
   ]
  },
  {
   "cell_type": "code",
   "execution_count": 39,
   "metadata": {},
   "outputs": [
    {
     "name": "stdout",
     "output_type": "stream",
     "text": [
      "The epoch on this system is Thu Jan  1 00:00:00 1970\n",
      "The current timezone is Eastern Standard Time with an offset of 18000\n",
      "DST is in effecr for this location\n",
      "The DST timezone is  Eastern Daylight Time\n",
      "Localtime is2020-04-28 15:49:01\n",
      "UTC is2020-04-28 19:49:01\n"
     ]
    }
   ],
   "source": [
    "import time\n",
    "\n",
    "epoch_time = time.strftime(\"%c\",time.gmtime(0))\n",
    "print(f\"The epoch on this system is {epoch_time}\")\n",
    "\n",
    "\n",
    "print(\"The current timezone is {0} with an offset of {1}\".format(time.tzname[0],time.timezone))\n",
    "\n",
    "if time.daylight !=0:\n",
    "    print(\"DST is in effecr for this location\")\n",
    "    print(\"The DST timezone is \", time.tzname[1])\n",
    "    \n",
    "print(\"Localtime is\" + time.strftime(\"%Y-%m-%d %H:%M:%S\", time.localtime()))\n",
    "\n",
    "print(\"UTC is\" + time.strftime(\"%Y-%m-%d %H:%M:%S\", time.gmtime()))"
   ]
  },
  {
   "cell_type": "code",
   "execution_count": 1,
   "metadata": {},
   "outputs": [
    {
     "name": "stdout",
     "output_type": "stream",
     "text": [
      "2020-04-28 16:26:49.193392\n",
      "2020-04-28 16:26:49.193391\n",
      "2020-04-28 20:26:49.193391\n"
     ]
    }
   ],
   "source": [
    "import datetime\n",
    "\n",
    "print(datetime.datetime.today())\n",
    "print(datetime.datetime.now())\n",
    "print(datetime.datetime.utcnow())"
   ]
  },
  {
   "cell_type": "code",
   "execution_count": 4,
   "metadata": {},
   "outputs": [
    {
     "name": "stdout",
     "output_type": "stream",
     "text": [
      "Europe/Moscow\n",
      "The time in Europe/Moscow is 2020-04-28 23:39:54.319485+03:00\n",
      "UTC is 2020-04-28 20:39:54.319485\n"
     ]
    }
   ],
   "source": [
    "import pytz\n",
    "import datetime\n",
    "\n",
    "country = \"Europe/Moscow\"\n",
    "\n",
    "tz_to_display = pytz.timezone(country)\n",
    "local_time = datetime.datetime.now(tz=tz_to_display)\n",
    "\n",
    "print(\"The time in {} is {}\".format(country,local_time))\n",
    "print(\"UTC is {}\".format(datetime.datetime.utcnow()))"
   ]
  },
  {
   "cell_type": "code",
   "execution_count": null,
   "metadata": {},
   "outputs": [],
   "source": [
    "# Timezone challenge\n",
    "import time\n",
    "import pytz\n",
    "\n",
    "disp_string = \"\"\"Please select a time zone from the list:\n",
    "1. India/Chennai\n",
    "2. Canada/Toronto\n",
    "3. Europe/Moscow\n",
    "4. UK/London\n",
    "5. Australia/Sydney\n",
    "0. Exit\"\"\"\n",
    "print(disp_string)\n",
    "user_tz = input()\n",
    "\n",
    "if (user_tz != \"Exit\") and (user_tz in disp_string):\n",
    "    py_tz = pytz.timezone(user_tz)\n",
    "    time_now = datetime.datetime.now(tz=py_tz)\n",
    "    time_local = datetime.datetime.now()\n",
    "    time_utc - datetime.datetime.utcnow()\n",
    "    \n",
    "    print(\"The time in {0} is {1} and the local time is {2} and UTC is {3}\".format(user_tz, time.strptime(\"%Y-%m-%d %H:%M:%S\", time_now),\n",
    "          time.strptime(\"%Y-%m-%d %H:%M:%S\", time_local), time.strptime(\"%Y-%m-%d %H:%M:%S\", time_utc)))\n",
    "else:\n",
    "    print(\"End of Game\")\n",
    "    "
   ]
  },
  {
   "cell_type": "code",
   "execution_count": null,
   "metadata": {},
   "outputs": [],
   "source": []
  }
 ],
 "metadata": {
  "kernelspec": {
   "display_name": "Python 3",
   "language": "python",
   "name": "python3"
  },
  "language_info": {
   "codemirror_mode": {
    "name": "ipython",
    "version": 3
   },
   "file_extension": ".py",
   "mimetype": "text/x-python",
   "name": "python",
   "nbconvert_exporter": "python",
   "pygments_lexer": "ipython3",
   "version": "3.7.3"
  }
 },
 "nbformat": 4,
 "nbformat_minor": 2
}
