{
 "cells": [
  {
   "cell_type": "code",
   "execution_count": 8,
   "metadata": {},
   "outputs": [
    {
     "name": "stdout",
     "output_type": "stream",
     "text": [
      " 0 in binary is 00000000\n",
      " 1 in binary is 00000001\n",
      " 2 in binary is 00000010\n",
      " 3 in binary is 00000011\n",
      " 4 in binary is 00000100\n",
      " 5 in binary is 00000101\n",
      " 6 in binary is 00000110\n",
      " 7 in binary is 00000111\n",
      " 8 in binary is 00001000\n",
      " 9 in binary is 00001001\n",
      "10 in binary is 00001010\n",
      "11 in binary is 00001011\n",
      "12 in binary is 00001100\n",
      "13 in binary is 00001101\n",
      "14 in binary is 00001110\n",
      "15 in binary is 00001111\n",
      "16 in binary is 00010000\n",
      "2\n"
     ]
    }
   ],
   "source": [
    "# program to print the binary equivalent of decimal\n",
    "\n",
    "for i in range(17):\n",
    "    print(\"{0:2} in binary is {0:08b}\".format(i))\n",
    "    \n",
    "print(0b10)"
   ]
  },
  {
   "cell_type": "code",
   "execution_count": 13,
   "metadata": {},
   "outputs": [
    {
     "name": "stdout",
     "output_type": "stream",
     "text": [
      " 0 in hex is 00\n",
      " 1 in hex is 01\n",
      " 2 in hex is 02\n",
      " 3 in hex is 03\n",
      " 4 in hex is 04\n",
      " 5 in hex is 05\n",
      " 6 in hex is 06\n",
      " 7 in hex is 07\n",
      " 8 in hex is 08\n",
      " 9 in hex is 09\n",
      "10 in hex is 0a\n",
      "11 in hex is 0b\n",
      "12 in hex is 0c\n",
      "13 in hex is 0d\n",
      "14 in hex is 0e\n",
      "15 in hex is 0f\n",
      "16 in hex is 10\n",
      "32\n",
      "3c\n"
     ]
    }
   ],
   "source": [
    "# program to print the hexadecimal equivalent of decimal\n",
    "\n",
    "for i in range(17):\n",
    "    print(\"{0:2} in hex is {0:02x}\".format(i))\n",
    "    \n",
    "print(0x20)\n",
    "x=0x8a\n",
    "y=0x4e\n",
    "z=x-y\n",
    "print(f\"{z:2x}\")\n"
   ]
  },
  {
   "cell_type": "code",
   "execution_count": 17,
   "metadata": {},
   "outputs": [
    {
     "name": "stdout",
     "output_type": "stream",
     "text": [
      "Please enter a number to be converted: 16\n",
      "Binary equivalent is    10000\n",
      "Octal equivalent is       20\n",
      "Hexa equivalent is       10\n"
     ]
    }
   ],
   "source": [
    "# program to conver to binary, octal and hexa\n",
    "\n",
    "number=int(input(\"Please enter a number to be converted: \"))\n",
    "print(\"Binary equivalent is {0:8b}\".format(number))\n",
    "print(\"Octal equivalent is {0:8o}\".format(number))\n",
    "print(\"Hexa equivalent is {0:8x}\".format(number))"
   ]
  },
  {
   "cell_type": "code",
   "execution_count": null,
   "metadata": {},
   "outputs": [],
   "source": []
  }
 ],
 "metadata": {
  "kernelspec": {
   "display_name": "Python 3",
   "language": "python",
   "name": "python3"
  },
  "language_info": {
   "codemirror_mode": {
    "name": "ipython",
    "version": 3
   },
   "file_extension": ".py",
   "mimetype": "text/x-python",
   "name": "python",
   "nbconvert_exporter": "python",
   "pygments_lexer": "ipython3",
   "version": "3.7.3"
  }
 },
 "nbformat": 4,
 "nbformat_minor": 2
}
