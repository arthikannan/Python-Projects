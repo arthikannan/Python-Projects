{
 "cells": [
  {
   "cell_type": "code",
   "execution_count": 1,
   "metadata": {},
   "outputs": [
    {
     "name": "stdout",
     "output_type": "stream",
     "text": [
      "N\n",
      "o\n",
      "r\n",
      "w\n",
      "e\n",
      "g\n",
      "i\n",
      "a\n",
      "n\n",
      " \n",
      "B\n",
      "l\n",
      "u\n",
      "e\n"
     ]
    }
   ],
   "source": [
    "# Printing letters in the var parrot using for loop\n",
    "parrot =\"Norwegian Blue\"\n",
    "\n",
    "for character in parrot:\n",
    "    print(character)"
   ]
  },
  {
   "cell_type": "code",
   "execution_count": 2,
   "metadata": {},
   "outputs": [
    {
     "name": "stdout",
     "output_type": "stream",
     "text": [
      ",;: ,;\n"
     ]
    }
   ],
   "source": [
    "# Extracting the separator using for loop\n",
    "number=\"9,223;372:036 854,775;807\"\n",
    "separator=\"\"\n",
    "\n",
    "for char in number:\n",
    "    if not char.isnumeric():\n",
    "        separator = separator+char\n",
    "\n",
    "print(separator)"
   ]
  },
  {
   "cell_type": "code",
   "execution_count": 4,
   "metadata": {},
   "outputs": [
    {
     "name": "stdout",
     "output_type": "stream",
     "text": [
      "ASMEWPOIRFWSPHR\n"
     ]
    }
   ],
   "source": [
    "# Program to print the capital letters in the string\n",
    "quote = \"\"\"\n",
    "Alright, but apart from the Sanitation, the Medicine, Education, Wine,\n",
    "Public Order, Irrigation, Roads, the Fresh-Water System,\n",
    "and Public Health, what have the Romans ever done for us?\n",
    "\"\"\"\n",
    " \n",
    "# Use a for loop and an if statement to print just the capitals in the quote above.\n",
    "cap_letter=\"\"\n",
    "\n",
    "for char in quote:\n",
    "    if char.isupper():\n",
    "        cap_letter= cap_letter + char\n",
    "        \n",
    "print(cap_letter)"
   ]
  },
  {
   "cell_type": "code",
   "execution_count": 6,
   "metadata": {},
   "outputs": [
    {
     "name": "stdout",
     "output_type": "stream",
     "text": [
      "i is 1\n",
      "i is 2\n",
      "i is 3\n",
      "i is 4\n",
      "i is 5\n",
      "i is 6\n",
      "i is 7\n",
      "i is 8\n",
      "i is 9\n",
      "i is 10\n",
      "i is 11\n",
      "i is 12\n",
      "i is 13\n",
      "i is 14\n",
      "i is 15\n",
      "i is 16\n",
      "i is 17\n",
      "i is 18\n",
      "i is 19\n",
      "i is 20\n"
     ]
    }
   ],
   "source": [
    "#for loop using range\n",
    "\n",
    "for i in range(1,21):\n",
    "    print(\"i is {}\".format(i))"
   ]
  },
  {
   "cell_type": "code",
   "execution_count": 8,
   "metadata": {},
   "outputs": [
    {
     "name": "stdout",
     "output_type": "stream",
     "text": [
      "0\n",
      "1\n",
      "2\n",
      "3\n",
      "4\n",
      "5\n",
      "6\n",
      "7\n",
      "8\n",
      "9\n"
     ]
    }
   ],
   "source": [
    "# Program to print out all the numbers from 0 to 9\n",
    "\n",
    "for i in range(10):\n",
    "    print(i)"
   ]
  },
  {
   "cell_type": "code",
   "execution_count": 9,
   "metadata": {},
   "outputs": [
    {
     "name": "stdout",
     "output_type": "stream",
     "text": [
      "10\n",
      "8\n",
      "6\n",
      "4\n",
      "2\n"
     ]
    }
   ],
   "source": [
    "# Program to print out all the numbers from 10 to 0 in steps of 2\n",
    "\n",
    "for i in range(10,0,-2):\n",
    "    print(i)"
   ]
  },
  {
   "cell_type": "code",
   "execution_count": 10,
   "metadata": {},
   "outputs": [
    {
     "name": "stdout",
     "output_type": "stream",
     "text": [
      "0\n",
      "7\n",
      "14\n",
      "21\n",
      "28\n",
      "35\n",
      "42\n",
      "49\n",
      "56\n",
      "63\n",
      "70\n",
      "77\n",
      "84\n",
      "91\n",
      "98\n"
     ]
    }
   ],
   "source": [
    "# Program to print all numbers divisible by 7, including 0: Method1\n",
    "\n",
    "for i in range(0,101,7):\n",
    "    print(i)"
   ]
  },
  {
   "cell_type": "code",
   "execution_count": 11,
   "metadata": {},
   "outputs": [
    {
     "name": "stdout",
     "output_type": "stream",
     "text": [
      "0\n",
      "7\n",
      "14\n",
      "21\n",
      "28\n",
      "35\n",
      "42\n",
      "49\n",
      "56\n",
      "63\n",
      "70\n",
      "77\n",
      "84\n",
      "91\n",
      "98\n"
     ]
    }
   ],
   "source": [
    "# Program to print all numbers divisible by 7, including 0: Method2\n",
    "\n",
    "for i in range(0,101):\n",
    "    yes = i%7\n",
    "    if not yes:\n",
    "        print(i)"
   ]
  },
  {
   "cell_type": "code",
   "execution_count": 13,
   "metadata": {},
   "outputs": [
    {
     "name": "stdout",
     "output_type": "stream",
     "text": [
      " 1 times  1 is   1\n",
      " 1 times  2 is   2\n",
      " 1 times  3 is   3\n",
      " 1 times  4 is   4\n",
      " 1 times  5 is   5\n",
      " 1 times  6 is   6\n",
      " 1 times  7 is   7\n",
      " 1 times  8 is   8\n",
      " 1 times  9 is   9\n",
      " 1 times 10 is  10\n",
      " 1 times 11 is  11\n",
      " 1 times 12 is  12\n",
      "--------------------------------------------------\n",
      " 2 times  1 is   2\n",
      " 2 times  2 is   4\n",
      " 2 times  3 is   6\n",
      " 2 times  4 is   8\n",
      " 2 times  5 is  10\n",
      " 2 times  6 is  12\n",
      " 2 times  7 is  14\n",
      " 2 times  8 is  16\n",
      " 2 times  9 is  18\n",
      " 2 times 10 is  20\n",
      " 2 times 11 is  22\n",
      " 2 times 12 is  24\n",
      "--------------------------------------------------\n",
      " 3 times  1 is   3\n",
      " 3 times  2 is   6\n",
      " 3 times  3 is   9\n",
      " 3 times  4 is  12\n",
      " 3 times  5 is  15\n",
      " 3 times  6 is  18\n",
      " 3 times  7 is  21\n",
      " 3 times  8 is  24\n",
      " 3 times  9 is  27\n",
      " 3 times 10 is  30\n",
      " 3 times 11 is  33\n",
      " 3 times 12 is  36\n",
      "--------------------------------------------------\n",
      " 4 times  1 is   4\n",
      " 4 times  2 is   8\n",
      " 4 times  3 is  12\n",
      " 4 times  4 is  16\n",
      " 4 times  5 is  20\n",
      " 4 times  6 is  24\n",
      " 4 times  7 is  28\n",
      " 4 times  8 is  32\n",
      " 4 times  9 is  36\n",
      " 4 times 10 is  40\n",
      " 4 times 11 is  44\n",
      " 4 times 12 is  48\n",
      "--------------------------------------------------\n",
      " 5 times  1 is   5\n",
      " 5 times  2 is  10\n",
      " 5 times  3 is  15\n",
      " 5 times  4 is  20\n",
      " 5 times  5 is  25\n",
      " 5 times  6 is  30\n",
      " 5 times  7 is  35\n",
      " 5 times  8 is  40\n",
      " 5 times  9 is  45\n",
      " 5 times 10 is  50\n",
      " 5 times 11 is  55\n",
      " 5 times 12 is  60\n",
      "--------------------------------------------------\n",
      " 6 times  1 is   6\n",
      " 6 times  2 is  12\n",
      " 6 times  3 is  18\n",
      " 6 times  4 is  24\n",
      " 6 times  5 is  30\n",
      " 6 times  6 is  36\n",
      " 6 times  7 is  42\n",
      " 6 times  8 is  48\n",
      " 6 times  9 is  54\n",
      " 6 times 10 is  60\n",
      " 6 times 11 is  66\n",
      " 6 times 12 is  72\n",
      "--------------------------------------------------\n",
      " 7 times  1 is   7\n",
      " 7 times  2 is  14\n",
      " 7 times  3 is  21\n",
      " 7 times  4 is  28\n",
      " 7 times  5 is  35\n",
      " 7 times  6 is  42\n",
      " 7 times  7 is  49\n",
      " 7 times  8 is  56\n",
      " 7 times  9 is  63\n",
      " 7 times 10 is  70\n",
      " 7 times 11 is  77\n",
      " 7 times 12 is  84\n",
      "--------------------------------------------------\n",
      " 8 times  1 is   8\n",
      " 8 times  2 is  16\n",
      " 8 times  3 is  24\n",
      " 8 times  4 is  32\n",
      " 8 times  5 is  40\n",
      " 8 times  6 is  48\n",
      " 8 times  7 is  56\n",
      " 8 times  8 is  64\n",
      " 8 times  9 is  72\n",
      " 8 times 10 is  80\n",
      " 8 times 11 is  88\n",
      " 8 times 12 is  96\n",
      "--------------------------------------------------\n",
      " 9 times  1 is   9\n",
      " 9 times  2 is  18\n",
      " 9 times  3 is  27\n",
      " 9 times  4 is  36\n",
      " 9 times  5 is  45\n",
      " 9 times  6 is  54\n",
      " 9 times  7 is  63\n",
      " 9 times  8 is  72\n",
      " 9 times  9 is  81\n",
      " 9 times 10 is  90\n",
      " 9 times 11 is  99\n",
      " 9 times 12 is 108\n",
      "--------------------------------------------------\n",
      "10 times  1 is  10\n",
      "10 times  2 is  20\n",
      "10 times  3 is  30\n",
      "10 times  4 is  40\n",
      "10 times  5 is  50\n",
      "10 times  6 is  60\n",
      "10 times  7 is  70\n",
      "10 times  8 is  80\n",
      "10 times  9 is  90\n",
      "10 times 10 is 100\n",
      "10 times 11 is 110\n",
      "10 times 12 is 120\n",
      "--------------------------------------------------\n",
      "11 times  1 is  11\n",
      "11 times  2 is  22\n",
      "11 times  3 is  33\n",
      "11 times  4 is  44\n",
      "11 times  5 is  55\n",
      "11 times  6 is  66\n",
      "11 times  7 is  77\n",
      "11 times  8 is  88\n",
      "11 times  9 is  99\n",
      "11 times 10 is 110\n",
      "11 times 11 is 121\n",
      "11 times 12 is 132\n",
      "--------------------------------------------------\n",
      "12 times  1 is  12\n",
      "12 times  2 is  24\n",
      "12 times  3 is  36\n",
      "12 times  4 is  48\n",
      "12 times  5 is  60\n",
      "12 times  6 is  72\n",
      "12 times  7 is  84\n",
      "12 times  8 is  96\n",
      "12 times  9 is 108\n",
      "12 times 10 is 120\n",
      "12 times 11 is 132\n",
      "12 times 12 is 144\n",
      "--------------------------------------------------\n"
     ]
    }
   ],
   "source": [
    "# Program for multiplication table (1 to 12) using nested for loop\n",
    "\n",
    "for i in range(1,13):\n",
    "    for j in range(1,13):\n",
    "        print(\"{:>2} times {:>2} is {:>3}\".format(i,j,i*j))\n",
    "    print(\"-\"*50)"
   ]
  },
  {
   "cell_type": "code",
   "execution_count": 1,
   "metadata": {},
   "outputs": [
    {
     "name": "stdout",
     "output_type": "stream",
     "text": [
      "0\n",
      "7\n",
      "14\n",
      "21\n",
      "28\n",
      "35\n",
      "42\n",
      "49\n",
      "56\n",
      "63\n",
      "70\n",
      "77\n"
     ]
    }
   ],
   "source": [
    "#Program to print nos in steps of 7 until the no is divisible by 11\n",
    "\n",
    "for i in range(0, 100, 7):\n",
    "    print(i)\n",
    "    if i>0 and i%11 ==0:\n",
    "        break"
   ]
  },
  {
   "cell_type": "code",
   "execution_count": 2,
   "metadata": {},
   "outputs": [
    {
     "name": "stdout",
     "output_type": "stream",
     "text": [
      "1\n",
      "2\n",
      "4\n",
      "7\n",
      "8\n",
      "11\n",
      "13\n",
      "14\n",
      "16\n",
      "17\n",
      "19\n"
     ]
    }
   ],
   "source": [
    "# program to print all nos from 1 to 20 which aren't divisible by 3 or 5\n",
    "\n",
    "for i in range(0,21):\n",
    "    if i%3 != 0 and i%5 !=0:\n",
    "        print(i)"
   ]
  },
  {
   "cell_type": "code",
   "execution_count": null,
   "metadata": {},
   "outputs": [],
   "source": []
  }
 ],
 "metadata": {
  "kernelspec": {
   "display_name": "Python 3",
   "language": "python",
   "name": "python3"
  },
  "language_info": {
   "codemirror_mode": {
    "name": "ipython",
    "version": 3
   },
   "file_extension": ".py",
   "mimetype": "text/x-python",
   "name": "python",
   "nbconvert_exporter": "python",
   "pygments_lexer": "ipython3",
   "version": "3.7.3"
  }
 },
 "nbformat": 4,
 "nbformat_minor": 2
}
