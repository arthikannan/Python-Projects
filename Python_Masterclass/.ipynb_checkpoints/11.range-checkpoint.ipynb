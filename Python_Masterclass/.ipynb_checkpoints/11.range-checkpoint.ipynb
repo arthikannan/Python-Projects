{
 "cells": [
  {
   "cell_type": "code",
   "execution_count": 3,
   "metadata": {},
   "outputs": [
    {
     "name": "stdout",
     "output_type": "stream",
     "text": [
      "[0, 1, 2, 3, 4, 5, 6, 7, 8, 9]\n"
     ]
    }
   ],
   "source": [
    "my_list=list(range(10))\n",
    "print(my_list)"
   ]
  },
  {
   "cell_type": "code",
   "execution_count": 8,
   "metadata": {},
   "outputs": [
    {
     "name": "stdout",
     "output_type": "stream",
     "text": [
      "<class 'range'>\n",
      "range(0, 11)\n"
     ]
    }
   ],
   "source": [
    "numbers = range(0,11)\n",
    "print(type(numbers))\n",
    "print(numbers)"
   ]
  },
  {
   "cell_type": "code",
   "execution_count": 12,
   "metadata": {},
   "outputs": [
    {
     "name": "stdout",
     "output_type": "stream",
     "text": [
      "index value 6\n",
      "24\n"
     ]
    }
   ],
   "source": [
    "even= list(range(0,201,2))\n",
    "odd=list(range(1,200,2))\n",
    "print(f\"index value {even.index(12)}\")\n",
    "print(even[12])"
   ]
  },
  {
   "cell_type": "code",
   "execution_count": 13,
   "metadata": {},
   "outputs": [
    {
     "name": "stdout",
     "output_type": "stream",
     "text": [
      "3\n",
      "6\n",
      "9\n",
      "12\n",
      "15\n",
      "18\n",
      "21\n",
      "24\n",
      "27\n",
      "30\n",
      "33\n",
      "36\n",
      "39\n",
      "****************************************\n",
      "3\n",
      "6\n",
      "9\n",
      "12\n",
      "15\n",
      "18\n",
      "21\n",
      "24\n",
      "27\n",
      "30\n",
      "33\n",
      "36\n",
      "39\n"
     ]
    }
   ],
   "source": [
    "decimals = range(0,100)\n",
    "my_range = decimals[3:40:3]\n",
    "\n",
    "for i in my_range:\n",
    "    print(i)\n",
    "\n",
    "print(\"*\" * 40)\n",
    "\n",
    "for i in range(3,40,3):\n",
    "    print(i)"
   ]
  },
  {
   "cell_type": "code",
   "execution_count": 17,
   "metadata": {},
   "outputs": [
    {
     "name": "stdout",
     "output_type": "stream",
     "text": [
      "True\n",
      "99\n",
      "97\n",
      "95\n",
      "93\n",
      "91\n",
      "89\n",
      "87\n",
      "85\n",
      "83\n",
      "81\n",
      "79\n",
      "77\n",
      "75\n",
      "73\n",
      "71\n",
      "69\n",
      "67\n",
      "65\n",
      "63\n",
      "61\n",
      "59\n",
      "57\n",
      "55\n",
      "53\n",
      "51\n",
      "49\n",
      "47\n",
      "45\n",
      "43\n",
      "41\n",
      "39\n",
      "37\n",
      "35\n",
      "33\n",
      "31\n",
      "29\n",
      "27\n",
      "25\n",
      "23\n",
      "21\n",
      "19\n",
      "17\n",
      "15\n",
      "13\n",
      "11\n",
      "9\n",
      "7\n",
      "5\n",
      "3\n",
      "1\n",
      "****************************************\n",
      "99\n",
      "97\n",
      "95\n",
      "93\n",
      "91\n",
      "89\n",
      "87\n",
      "85\n",
      "83\n",
      "81\n",
      "79\n",
      "77\n",
      "75\n",
      "73\n",
      "71\n",
      "69\n",
      "67\n",
      "65\n",
      "63\n",
      "61\n",
      "59\n",
      "57\n",
      "55\n",
      "53\n",
      "51\n",
      "49\n",
      "47\n",
      "45\n",
      "43\n",
      "41\n",
      "39\n",
      "37\n",
      "35\n",
      "33\n",
      "31\n",
      "29\n",
      "27\n",
      "25\n",
      "23\n",
      "21\n",
      "19\n",
      "17\n",
      "15\n",
      "13\n",
      "11\n",
      "9\n",
      "7\n",
      "5\n",
      "3\n",
      "1\n"
     ]
    }
   ],
   "source": [
    "print(my_range == range(3,40,3))\n",
    "\n",
    "r = range(0,100)\n",
    "\n",
    "for i in r[::-2]:\n",
    "    print(i)\n",
    "    \n",
    "print(\"*\" * 40)\n",
    "for i in range(99,0,-2):\n",
    "    print(i)"
   ]
  },
  {
   "cell_type": "code",
   "execution_count": null,
   "metadata": {},
   "outputs": [],
   "source": []
  }
 ],
 "metadata": {
  "kernelspec": {
   "display_name": "Python 3",
   "language": "python",
   "name": "python3"
  },
  "language_info": {
   "codemirror_mode": {
    "name": "ipython",
    "version": 3
   },
   "file_extension": ".py",
   "mimetype": "text/x-python",
   "name": "python",
   "nbconvert_exporter": "python",
   "pygments_lexer": "ipython3",
   "version": "3.7.3"
  }
 },
 "nbformat": 4,
 "nbformat_minor": 2
}
