{
 "cells": [
  {
   "cell_type": "code",
   "execution_count": 4,
   "metadata": {},
   "outputs": [
    {
     "name": "stdout",
     "output_type": "stream",
     "text": [
      "0 is now\n",
      "1 is now\n",
      "2 is now\n",
      "3 is now\n",
      "4 is now\n",
      "5 is now\n",
      "6 is now\n",
      "7 is now\n",
      "8 is now\n",
      "9 is now\n"
     ]
    }
   ],
   "source": [
    "# while loop to print 0 to 9\n",
    "i=0\n",
    "while i < 10:\n",
    "    print(f\"{i} is now\")\n",
    "    i += 1"
   ]
  },
  {
   "cell_type": "code",
   "execution_count": 3,
   "metadata": {},
   "outputs": [
    {
     "name": "stdout",
     "output_type": "stream",
     "text": [
      "Please enter an exit: quit\n",
      "Game Over\n",
      "Glad! you have found the exit\n"
     ]
    }
   ],
   "source": [
    "#adventure game using while loop\n",
    "\n",
    "available_exits = [\"north\",\"east\",'south','west']\n",
    "chosen_exit =\"\"\n",
    "\n",
    "while chosen_exit.casefold() not in available_exits:\n",
    "    chosen_exit = input(\"Please enter an exit: \")\n",
    "    if chosen_exit.casefold() == \"quit\":\n",
    "        print(\"Game Over\")\n",
    "        break\n",
    "\n",
    "print(\"Glad! you have found the exit\")"
   ]
  },
  {
   "cell_type": "code",
   "execution_count": null,
   "metadata": {},
   "outputs": [],
   "source": []
  }
 ],
 "metadata": {
  "kernelspec": {
   "display_name": "Python 3",
   "language": "python",
   "name": "python3"
  },
  "language_info": {
   "codemirror_mode": {
    "name": "ipython",
    "version": 3
   },
   "file_extension": ".py",
   "mimetype": "text/x-python",
   "name": "python",
   "nbconvert_exporter": "python",
   "pygments_lexer": "ipython3",
   "version": "3.7.3"
  }
 },
 "nbformat": 4,
 "nbformat_minor": 2
}
