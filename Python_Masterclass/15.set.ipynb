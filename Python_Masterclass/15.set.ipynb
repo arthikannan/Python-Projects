{
 "cells": [
  {
   "cell_type": "code",
   "execution_count": 3,
   "metadata": {},
   "outputs": [
    {
     "name": "stdout",
     "output_type": "stream",
     "text": [
      "<class 'set'>\n",
      "hen\n",
      "cow\n",
      "sheep\n",
      "duck\n"
     ]
    }
   ],
   "source": [
    "farm_animals = {\"hen\",\"duck\", \"sheep\", \"cow\"}\n",
    "print(type(farm_animals))\n",
    "for i in farm_animals:\n",
    "    print(i)"
   ]
  },
  {
   "cell_type": "code",
   "execution_count": 5,
   "metadata": {},
   "outputs": [
    {
     "name": "stdout",
     "output_type": "stream",
     "text": [
      "set() {0, 1, 2, 3, 4, 5, 6, 7, 8, 9, 10, 11, 12, 13, 14} {1, 2, 3, 4, 5, 6, 7}\n"
     ]
    }
   ],
   "source": [
    "empty_set = set()\n",
    "range_set = set(range(15))\n",
    "tuple_set = set((1,2,3,4,5,6,7))\n",
    "print(empty_set, range_set, tuple_set)"
   ]
  },
  {
   "cell_type": "code",
   "execution_count": 7,
   "metadata": {},
   "outputs": [
    {
     "name": "stdout",
     "output_type": "stream",
     "text": [
      "{1, 2, 3, 4, 5, 6, 7, 8, 9, 10, 11, 12, 13, 14, 15, 16, 17, 18, 19, 20, 21, 22, 23, 24, 25, 26, 27, 28, 29, 30, 31, 32, 33, 34, 35, 36, 37, 38, 39, 40, 41, 42, 43, 44, 45, 46, 47, 48, 49, 50, 64, 72, 100} 53\n",
      "{1, 4, 36, 8, 16, 49, 25} 7\n"
     ]
    }
   ],
   "source": [
    "# union and intersection\n",
    "\n",
    "numbers = set(range(1,51))\n",
    "squares = {1,4,9,16,25,36,49,64,72,100}\n",
    "\n",
    "print(numbers.union(squares), len(numbers.union(squares)))\n",
    "print(numbers.intersection(squares), len(numbers.intersection(squares)))"
   ]
  },
  {
   "cell_type": "code",
   "execution_count": 15,
   "metadata": {},
   "outputs": [
    {
     "name": "stdout",
     "output_type": "stream",
     "text": [
      "{2, 3, 5, 6, 7, 9, 10, 11, 12, 13, 14, 15, 17, 18, 19, 20, 21, 22, 23, 24, 26, 27, 28, 29, 30, 31, 32, 33, 34, 35, 37, 38, 39, 40, 41, 42, 43, 44, 45, 46, 47, 48, 50} 43\n",
      "{64, 72, 100}\n",
      "None\n",
      "{64, 100, 72}\n"
     ]
    }
   ],
   "source": [
    "# Subtarction, difference and update\n",
    "\n",
    "numbers = set(range(1,51))\n",
    "squares = {1,4,9,16,25,36,49,64,72,100}\n",
    "\n",
    "print(numbers.difference(squares), len(numbers.difference(squares)))\n",
    "print(squares.difference(numbers))\n",
    "print(squares.difference_update(numbers))\n",
    "print(squares)"
   ]
  },
  {
   "cell_type": "code",
   "execution_count": 19,
   "metadata": {},
   "outputs": [
    {
     "name": "stdout",
     "output_type": "stream",
     "text": [
      "{2, 3, 5, 6, 7, 8, 10, 11, 12, 13, 14, 15, 17, 18, 19, 20, 21, 22, 23, 24, 26, 27, 28, 29, 30, 31, 32, 33, 34, 35, 37, 38, 39, 40, 41, 42, 43, 44, 45, 46, 47, 48, 50, 64, 72, 100} 46\n",
      "{2, 3, 5, 6, 7, 8, 10, 11, 12, 13, 14, 15, 17, 18, 19, 20, 21, 22, 23, 24, 26, 27, 28, 29, 30, 31, 32, 33, 34, 35, 37, 38, 39, 40, 41, 42, 43, 44, 45, 46, 47, 48, 50, 64, 72, 100} 46\n",
      "None\n",
      "{64, 1, 4, 36, 100, 72, 9, 16, 49, 25}\n",
      "{2, 3, 5, 6, 7, 8, 10, 11, 12, 13, 14, 15, 17, 18, 19, 20, 21, 22, 23, 24, 26, 27, 28, 29, 30, 31, 32, 33, 34, 35, 37, 38, 39, 40, 41, 42, 43, 44, 45, 46, 47, 48, 50, 64, 72, 100}\n"
     ]
    }
   ],
   "source": [
    "# Symmetric difference\n",
    "numbers = set(range(1,51))\n",
    "squares = {1,4,9,16,25,36,49,64,72,100}\n",
    "\n",
    "print(numbers.symmetric_difference(squares), len(numbers.symmetric_difference(squares)))\n",
    "print(squares.symmetric_difference(numbers), len(squares.symmetric_difference(numbers)))\n",
    "\n",
    "\n",
    "print(numbers.symmetric_difference_update(squares))\n",
    "print(squares)\n",
    "print(numbers)"
   ]
  },
  {
   "cell_type": "code",
   "execution_count": 24,
   "metadata": {},
   "outputs": [
    {
     "name": "stdout",
     "output_type": "stream",
     "text": [
      "[1, 4, 9, 16, 49, 64, 72, 100]\n"
     ]
    }
   ],
   "source": [
    "# discard and remove\n",
    "\n",
    "numbers = set(range(1,51))\n",
    "squares = {1,4,9,16,25,36,49,64,72,100}\n",
    "\n",
    "squares.remove(25)\n",
    "squares.discard(36)\n",
    "squares.discard(50)\n",
    "\n",
    "print(sorted(squares))"
   ]
  },
  {
   "cell_type": "code",
   "execution_count": 25,
   "metadata": {},
   "outputs": [
    {
     "name": "stdout",
     "output_type": "stream",
     "text": [
      "True\n",
      "True\n",
      "False\n"
     ]
    }
   ],
   "source": [
    "# subset and superset\n",
    "numbers = set(range(1,10))\n",
    "even = set(range(1,10,2))\n",
    "mul3 = set(range(1,30,3))\n",
    "\n",
    "print(even.issubset(numbers))\n",
    "print(numbers.issuperset(even))\n",
    "print(mul3.issuperset(numbers))\n"
   ]
  },
  {
   "cell_type": "code",
   "execution_count": null,
   "metadata": {},
   "outputs": [],
   "source": [
    "# Set challenge\n",
    "\n",
    "inp_letters = input(\"Please enter some text: \")\n",
    "\n",
    "letter = set(inp_letters)\n",
    "print(letter)\n",
    "vowels = {\"a\", \"e\", \"i\", \"o\", \"u\"}\n",
    "\n",
    "print(\"Characters that are not vowels are: \", sorted(letter.difference(vowels)))"
   ]
  },
  {
   "cell_type": "code",
   "execution_count": null,
   "metadata": {},
   "outputs": [],
   "source": []
  }
 ],
 "metadata": {
  "kernelspec": {
   "display_name": "Python 3",
   "language": "python",
   "name": "python3"
  },
  "language_info": {
   "codemirror_mode": {
    "name": "ipython",
    "version": 3
   },
   "file_extension": ".py",
   "mimetype": "text/x-python",
   "name": "python",
   "nbconvert_exporter": "python",
   "pygments_lexer": "ipython3",
   "version": "3.7.3"
  }
 },
 "nbformat": 4,
 "nbformat_minor": 2
}
