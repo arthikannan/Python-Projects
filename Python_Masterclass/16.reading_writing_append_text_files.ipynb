{
 "cells": [
  {
   "cell_type": "code",
   "execution_count": 9,
   "metadata": {},
   "outputs": [
    {
     "name": "stdout",
     "output_type": "stream",
     "text": [
      "\"Beware the Jabberwock, my son!\n",
      "\n",
      "The Jabberwock, with eyes of flame,\n",
      "\n",
      "\"And hast thou slain the Jabberwock?\n",
      "\n"
     ]
    }
   ],
   "source": [
    "#Reading using open and close\n",
    "jabber = open(\"C:/Users/mail2/Downloads/original.txt\",\"r\")\n",
    "\n",
    "for text in jabber:\n",
    "    if \"jabberwock\" in text.casefold():\n",
    "        print(text)\n",
    "    \n",
    "jabber.close()"
   ]
  },
  {
   "cell_type": "code",
   "execution_count": 13,
   "metadata": {},
   "outputs": [
    {
     "name": "stdout",
     "output_type": "stream",
     "text": [
      "\"Beware the Jabberwock, my son!\n",
      "The Jabberwock, with eyes of flame,\n",
      "\"And hast thou slain the Jabberwock?\n"
     ]
    }
   ],
   "source": [
    "#Read using with\n",
    "with open(\"C:/Users/mail2/Downloads/original.txt\",\"r\") as jabber:\n",
    "    \n",
    "    for text in jabber:\n",
    "        if \"jabberwock\" in text.casefold():\n",
    "            print(text, end='')\n",
    "    "
   ]
  },
  {
   "cell_type": "code",
   "execution_count": 12,
   "metadata": {},
   "outputs": [
    {
     "name": "stdout",
     "output_type": "stream",
     "text": [
      "'Twas brillig, and the slithy toves\n",
      "Did gyre and gimble in the wabe;\n",
      "All mimsy were the borogoves,\n",
      "And the mome raths outgrabe.\n",
      "\n",
      "\"Beware the Jabberwock, my son!\n",
      "The jaws that bite, the claws that catch!\n",
      "Beware the Jubjub bird, and shun\n",
      "The frumious Bandersnatch!\"\n",
      "\n",
      "He took his vorpal sword in hand:\n",
      "Long time the manxome foe he sought,\n",
      "So rested he by the Tumtum tree,\n",
      "And stood a while in thought.\n",
      "\n",
      "And, as in uffish thought he stood,\n",
      "The Jabberwock, with eyes of flame,\n",
      "Came whiffling through the tulgey wood,\n",
      "And burbled as it came!\n",
      "\n",
      "One two! One two! And through and through\n",
      "The vorpal blade went snicker-snack!\n",
      "He left it dead, and with its head\n",
      "He went galumphing back.\n",
      "\n",
      "\"And hast thou slain the Jabberwock?\n",
      "Come to my arms, my beamish boy!\"\n",
      "\"Oh frabjous day! Callooh! Callay!\"\n",
      "He chortled in his joy.\n",
      "\n",
      "'Twas brillig, and the slithy toves\n",
      "Did gyre and gimble in the wabe:\n",
      "All mimsy were the borogoves,\n",
      "And the mome raths outgrabe.\n",
      "\n"
     ]
    }
   ],
   "source": [
    "# reading lines using readline()\n",
    "with open(\"C:/Users/mail2/Downloads/original.txt\",\"r\") as jabber:\n",
    "    line=jabber.readline()\n",
    "    while line:\n",
    "        print(line, end='')\n",
    "        line=jabber.readline()"
   ]
  },
  {
   "cell_type": "code",
   "execution_count": 18,
   "metadata": {},
   "outputs": [
    {
     "name": "stdout",
     "output_type": "stream",
     "text": [
      "[\"'Twas brillig, and the slithy toves\\n\", 'Did gyre and gimble in the wabe;\\n', 'All mimsy were the borogoves,\\n', 'And the mome raths outgrabe.\\n', '\\n', '\"Beware the Jabberwock, my son!\\n', 'The jaws that bite, the claws that catch!\\n', 'Beware the Jubjub bird, and shun\\n', 'The frumious Bandersnatch!\"\\n', '\\n', 'He took his vorpal sword in hand:\\n', 'Long time the manxome foe he sought,\\n', 'So rested he by the Tumtum tree,\\n', 'And stood a while in thought.\\n', '\\n', 'And, as in uffish thought he stood,\\n', 'The Jabberwock, with eyes of flame,\\n', 'Came whiffling through the tulgey wood,\\n', 'And burbled as it came!\\n', '\\n', 'One two! One two! And through and through\\n', 'The vorpal blade went snicker-snack!\\n', 'He left it dead, and with its head\\n', 'He went galumphing back.\\n', '\\n', '\"And hast thou slain the Jabberwock?\\n', 'Come to my arms, my beamish boy!\"\\n', '\"Oh frabjous day! Callooh! Callay!\"\\n', 'He chortled in his joy.\\n', '\\n', \"'Twas brillig, and the slithy toves\\n\", 'Did gyre and gimble in the wabe:\\n', 'All mimsy were the borogoves,\\n', 'And the mome raths outgrabe.\\n', '\\n']\n",
      "'Twas brillig, and the slithy toves\n",
      "Did gyre and gimble in the wabe;\n",
      "All mimsy were the borogoves,\n",
      "And the mome raths outgrabe.\n",
      "\n",
      "\"Beware the Jabberwock, my son!\n",
      "The jaws that bite, the claws that catch!\n",
      "Beware the Jubjub bird, and shun\n",
      "The frumious Bandersnatch!\"\n",
      "\n",
      "He took his vorpal sword in hand:\n",
      "Long time the manxome foe he sought,\n",
      "So rested he by the Tumtum tree,\n",
      "And stood a while in thought.\n",
      "\n",
      "And, as in uffish thought he stood,\n",
      "The Jabberwock, with eyes of flame,\n",
      "Came whiffling through the tulgey wood,\n",
      "And burbled as it came!\n",
      "\n",
      "One two! One two! And through and through\n",
      "The vorpal blade went snicker-snack!\n",
      "He left it dead, and with its head\n",
      "He went galumphing back.\n",
      "\n",
      "\"And hast thou slain the Jabberwock?\n",
      "Come to my arms, my beamish boy!\"\n",
      "\"Oh frabjous day! Callooh! Callay!\"\n",
      "He chortled in his joy.\n",
      "\n",
      "'Twas brillig, and the slithy toves\n",
      "Did gyre and gimble in the wabe:\n",
      "All mimsy were the borogoves,\n",
      "And the mome raths outgrabe.\n",
      "\n"
     ]
    }
   ],
   "source": [
    "#Read lines using readlines()\n",
    "\n",
    "with open(\"C:/Users/mail2/Downloads/original.txt\",\"r\") as jabber:\n",
    "    lines=jabber.readlines()\n",
    "    print(lines)\n",
    "    for line in lines:\n",
    "        print(line,end='')"
   ]
  },
  {
   "cell_type": "code",
   "execution_count": 19,
   "metadata": {},
   "outputs": [
    {
     "name": "stdout",
     "output_type": "stream",
     "text": [
      "\n",
      "And the mome raths outgrabe.\n",
      "All mimsy were the borogoves,\n",
      "Did gyre and gimble in the wabe:\n",
      "'Twas brillig, and the slithy toves\n",
      "\n",
      "He chortled in his joy.\n",
      "\"Oh frabjous day! Callooh! Callay!\"\n",
      "Come to my arms, my beamish boy!\"\n",
      "\"And hast thou slain the Jabberwock?\n",
      "\n",
      "He went galumphing back.\n",
      "He left it dead, and with its head\n",
      "The vorpal blade went snicker-snack!\n",
      "One two! One two! And through and through\n",
      "\n",
      "And burbled as it came!\n",
      "Came whiffling through the tulgey wood,\n",
      "The Jabberwock, with eyes of flame,\n",
      "And, as in uffish thought he stood,\n",
      "\n",
      "And stood a while in thought.\n",
      "So rested he by the Tumtum tree,\n",
      "Long time the manxome foe he sought,\n",
      "He took his vorpal sword in hand:\n",
      "\n",
      "The frumious Bandersnatch!\"\n",
      "Beware the Jubjub bird, and shun\n",
      "The jaws that bite, the claws that catch!\n",
      "\"Beware the Jabberwock, my son!\n",
      "\n",
      "And the mome raths outgrabe.\n",
      "All mimsy were the borogoves,\n",
      "Did gyre and gimble in the wabe;\n",
      "'Twas brillig, and the slithy toves\n"
     ]
    }
   ],
   "source": [
    "# printing the reverse of the content\n",
    "with open(\"C:/Users/mail2/Downloads/original.txt\",\"r\") as jabber:\n",
    "    lines=jabber.readlines()\n",
    "    for line in lines[::-1]:\n",
    "        print(line,end='')"
   ]
  },
  {
   "cell_type": "code",
   "execution_count": 21,
   "metadata": {},
   "outputs": [
    {
     "name": "stdout",
     "output_type": "stream",
     "text": [
      "\n",
      "\n",
      ".ebargtuo shtar emom eht dnA\n",
      ",sevogorob eht erew ysmim llA\n",
      ":ebaw eht ni elbmig dna eryg diD\n",
      "sevot yhtils eht dna ,gillirb sawT'\n",
      "\n",
      ".yoj sih ni deltrohc eH\n",
      "\"!yallaC !hoollaC !yad suojbarf hO\"\n",
      "\"!yob hsimaeb ym ,smra ym ot emoC\n",
      "?kcowrebbaJ eht nials uoht tsah dnA\"\n",
      "\n",
      ".kcab gnihpmulag tnew eH\n",
      "daeh sti htiw dna ,daed ti tfel eH\n",
      "!kcans-rekcins tnew edalb laprov ehT\n",
      "hguorht dna hguorht dnA !owt enO !owt enO\n",
      "\n",
      "!emac ti sa delbrub dnA\n",
      ",doow yeglut eht hguorht gnilffihw emaC\n",
      ",emalf fo seye htiw ,kcowrebbaJ ehT\n",
      ",doots eh thguoht hsiffu ni sa ,dnA\n",
      "\n",
      ".thguoht ni elihw a doots dnA\n",
      ",eert mutmuT eht yb eh detser oS\n",
      ",thguos eh eof emoxnam eht emit gnoL\n",
      ":dnah ni drows laprov sih koot eH\n",
      "\n",
      "\"!hctansrednaB suoimurf ehT\n",
      "nuhs dna ,drib bujbuJ eht eraweB\n",
      "!hctac taht swalc eht ,etib taht swaj ehT\n",
      "!nos ym ,kcowrebbaJ eht eraweB\"\n",
      "\n",
      ".ebargtuo shtar emom eht dnA\n",
      ",sevogorob eht erew ysmim llA\n",
      ";ebaw eht ni elbmig dna eryg diD\n",
      "sevot yhtils eht dna ,gillirb sawT'"
     ]
    }
   ],
   "source": [
    "# printing the reverse of the content\n",
    "with open(\"C:/Users/mail2/Downloads/original.txt\",\"r\") as jabber:\n",
    "    lines=jabber.read()\n",
    "    for line in lines[::-1]:\n",
    "        print(line,end='')"
   ]
  },
  {
   "cell_type": "code",
   "execution_count": 24,
   "metadata": {},
   "outputs": [],
   "source": [
    "# Writing to a text file\n",
    "\n",
    "cities = [\"Toronto\",\"Mississauga\",\"Brampton\",\"Oakville\",\"Markam\",\"North York\", \"Milton\",\n",
    "          \"Waterloo\",\"Scarborough\"]\n",
    "\n",
    "with open(\"cities.txt\",\"w\") as city_file:\n",
    "    for city in cities:\n",
    "        print(city, file=city_file)"
   ]
  },
  {
   "cell_type": "code",
   "execution_count": 26,
   "metadata": {},
   "outputs": [
    {
     "name": "stdout",
     "output_type": "stream",
     "text": [
      "<class 'tuple'>\n"
     ]
    }
   ],
   "source": [
    "# writing a tuple to txt file\n",
    "\n",
    "imelda=((\"mayhem\",\"imily\",1984),(1,\"psycho\"),(2,\"let loose\"))\n",
    "print(type(imelda))\n",
    "\n",
    "with open(\"imelda.txt\",\"w\") as imelda_file:\n",
    "    print(imelda, file=imelda_file)"
   ]
  },
  {
   "cell_type": "code",
   "execution_count": 31,
   "metadata": {},
   "outputs": [
    {
     "name": "stdout",
     "output_type": "stream",
     "text": [
      "(('mayhem', 'imily', 1984), (1, 'psycho'), (2, 'let loose'))\n",
      "1984\n"
     ]
    }
   ],
   "source": [
    "#Reading a tuple from txt file\n",
    "\n",
    "with open(\"imelda.txt\",\"r\") as imelda_r:\n",
    "    contents = imelda_r.readline()\n",
    "    imelda3 = eval(contents)\n",
    "\n",
    "    print(imelda3)\n",
    "    title,artist,year =imelda[0]\n",
    "    print(year)"
   ]
  },
  {
   "cell_type": "code",
   "execution_count": 35,
   "metadata": {},
   "outputs": [],
   "source": [
    "with open(\"C:/Users/mail2/Downloads/original.txt\",\"a\") as append_file:\n",
    "    for i in range(1,13):\n",
    "        for j in range(1,13):\n",
    "            print(f\"{j:>2} times {i} is {(i*j):>4}\", file=append_file)\n",
    "        print(\"-\" * 30, file=append_file)"
   ]
  },
  {
   "cell_type": "code",
   "execution_count": null,
   "metadata": {},
   "outputs": [],
   "source": []
  }
 ],
 "metadata": {
  "kernelspec": {
   "display_name": "Python 3",
   "language": "python",
   "name": "python3"
  },
  "language_info": {
   "codemirror_mode": {
    "name": "ipython",
    "version": 3
   },
   "file_extension": ".py",
   "mimetype": "text/x-python",
   "name": "python",
   "nbconvert_exporter": "python",
   "pygments_lexer": "ipython3",
   "version": "3.7.3"
  }
 },
 "nbformat": 4,
 "nbformat_minor": 2
}
