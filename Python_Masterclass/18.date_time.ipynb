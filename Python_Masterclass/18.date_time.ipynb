{
 "cells": [
  {
   "cell_type": "code",
   "execution_count": null,
   "metadata": {},
   "outputs": [],
   "source": [
    "import time\n",
    "\n",
    "print(time.gmtime(0))\n",
    "\n",
    "print(time.localtime())\n",
    "\n",
    "print(time.time())\n",
    "\n",
    "print(time.gmtime())\n",
    "\n",
    "print(time.localtime(time.time()))\n",
    "\n",
    "print(time.localtime(0))"
   ]
  },
  {
   "cell_type": "code",
   "execution_count": null,
   "metadata": {},
   "outputs": [],
   "source": [
    "#access parts of the time\n",
    "\n",
    "import time\n",
    "\n",
    "local_time = time.localtime()\n",
    "\n",
    "print(\"Year: \", local_time.tm_year, local_time[0])\n",
    "print(\"Month: \", local_time.tm_mon, local_time[1])\n",
    "print(\"Day: \", local_time.tm_mday, local_time[2])\n",
    "\n",
    "\n"
   ]
  },
  {
   "cell_type": "code",
   "execution_count": null,
   "metadata": {},
   "outputs": [],
   "source": [
    "# game to calc elapsed time\n",
    "\n",
    "import time\n",
    "from time import time as my_timer \n",
    "import random\n",
    "\n",
    "input(\"Press Entre to start \")\n",
    "\n",
    "wait_time = random.randint(1,10)\n",
    "\n",
    "time.sleep(wait_time)\n",
    "\n",
    "start_time = my_timer()\n",
    "input(\"Press Enter to Stop \")\n",
    "\n",
    "end_time = my_timer()\n",
    "\n",
    "local_start = time.strftime(\"%X\", time.localtime(start_time))\n",
    "local_end = time.strftime(\"%X\", time.localtime(end_time))\n",
    "\n",
    "\n",
    "print(f\"Start time is {local_start}\")\n",
    "print(f\"End time is {local_end}\")\n",
    "print(f\"Time taken to respond is  {end_time-start_time}\")"
   ]
  },
  {
   "cell_type": "code",
   "execution_count": null,
   "metadata": {},
   "outputs": [],
   "source": [
    "clock_info = time.get_clock_info('monotonic')\n",
    "print(clock_info)"
   ]
  },
  {
   "cell_type": "code",
   "execution_count": null,
   "metadata": {},
   "outputs": [],
   "source": [
    "import time\n",
    "\n",
    "epoch_time = time.strftime(\"%c\",time.gmtime(0))\n",
    "print(f\"The epoch on this system is {epoch_time}\")\n",
    "\n",
    "\n",
    "print(\"The current timezone is {0} with an offset of {1}\".format(time.tzname[0],time.timezone))\n",
    "\n",
    "if time.daylight !=0:\n",
    "    print(\"DST is in effecr for this location\")\n",
    "    print(\"The DST timezone is \", time.tzname[1])\n",
    "    \n",
    "print(\"Localtime is\" + time.strftime(\"%Y-%m-%d %H:%M:%S\", time.localtime()))\n",
    "\n",
    "print(\"UTC is\" + time.strftime(\"%Y-%m-%d %H:%M:%S\", time.gmtime()))"
   ]
  },
  {
   "cell_type": "code",
   "execution_count": null,
   "metadata": {},
   "outputs": [],
   "source": [
    "import datetime\n",
    "\n",
    "print(datetime.datetime.today())\n",
    "print(datetime.datetime.now())\n",
    "print(datetime.datetime.utcnow())"
   ]
  },
  {
   "cell_type": "code",
   "execution_count": null,
   "metadata": {},
   "outputs": [],
   "source": [
    "import pytz\n",
    "import datetime\n",
    "\n",
    "country = \"Europe/Moscow\"\n",
    "\n",
    "tz_to_display = pytz.timezone(country)\n",
    "local_time = datetime.datetime.now(tz=tz_to_display)\n",
    "\n",
    "print(\"The time in {} is {}\".format(country,local_time))\n",
    "print(\"UTC is {}\".format(datetime.datetime.utcnow()))"
   ]
  },
  {
   "cell_type": "code",
   "execution_count": 8,
   "metadata": {},
   "outputs": [
    {
     "name": "stdout",
     "output_type": "stream",
     "text": [
      "Please select a time zone from the list:\n",
      "1. India/Chennai\n",
      "2. Canada/Toronto\n",
      "3. Europe/Moscow\n",
      "4. UK/London\n",
      "5. Australia/Sydney\n",
      "0. Exit\n",
      "Europe/Moscow\n"
     ]
    },
    {
     "ename": "ValueError",
     "evalue": "time data '%A %x %X %z' does not match format 'MSK'",
     "output_type": "error",
     "traceback": [
      "\u001b[1;31m---------------------------------------------------------------------------\u001b[0m",
      "\u001b[1;31mValueError\u001b[0m                                Traceback (most recent call last)",
      "\u001b[1;32m<ipython-input-8-01280faba919>\u001b[0m in \u001b[0;36m<module>\u001b[1;34m\u001b[0m\n\u001b[0;32m     20\u001b[0m     \u001b[0mtime_utc\u001b[0m \u001b[1;33m=\u001b[0m \u001b[0mdatetime\u001b[0m\u001b[1;33m.\u001b[0m\u001b[0mdatetime\u001b[0m\u001b[1;33m.\u001b[0m\u001b[0mutcnow\u001b[0m\u001b[1;33m(\u001b[0m\u001b[1;33m)\u001b[0m\u001b[1;33m\u001b[0m\u001b[1;33m\u001b[0m\u001b[0m\n\u001b[0;32m     21\u001b[0m \u001b[1;33m\u001b[0m\u001b[0m\n\u001b[1;32m---> 22\u001b[1;33m     print(\"The time in {0} is {1} and the local time is {2} and UTC is {3}\".format(user_tz, time_now.strptime(\"%A %x %X %z\", time_now.tzname()),\n\u001b[0m\u001b[0;32m     23\u001b[0m           time.strptime(\"%Y-%m-%d %H:%M:%S\", time_local), time.strptime(\"%Y-%m-%d %H:%M:%S\", time_utc)))\n\u001b[0;32m     24\u001b[0m \u001b[1;32melse\u001b[0m\u001b[1;33m:\u001b[0m\u001b[1;33m\u001b[0m\u001b[1;33m\u001b[0m\u001b[0m\n",
      "\u001b[1;32m~\\AppData\\Local\\Continuum\\anaconda3\\lib\\_strptime.py\u001b[0m in \u001b[0;36m_strptime_datetime\u001b[1;34m(cls, data_string, format)\u001b[0m\n\u001b[0;32m    575\u001b[0m     \"\"\"Return a class cls instance based on the input string and the\n\u001b[0;32m    576\u001b[0m     format string.\"\"\"\n\u001b[1;32m--> 577\u001b[1;33m     \u001b[0mtt\u001b[0m\u001b[1;33m,\u001b[0m \u001b[0mfraction\u001b[0m\u001b[1;33m,\u001b[0m \u001b[0mgmtoff_fraction\u001b[0m \u001b[1;33m=\u001b[0m \u001b[0m_strptime\u001b[0m\u001b[1;33m(\u001b[0m\u001b[0mdata_string\u001b[0m\u001b[1;33m,\u001b[0m \u001b[0mformat\u001b[0m\u001b[1;33m)\u001b[0m\u001b[1;33m\u001b[0m\u001b[1;33m\u001b[0m\u001b[0m\n\u001b[0m\u001b[0;32m    578\u001b[0m     \u001b[0mtzname\u001b[0m\u001b[1;33m,\u001b[0m \u001b[0mgmtoff\u001b[0m \u001b[1;33m=\u001b[0m \u001b[0mtt\u001b[0m\u001b[1;33m[\u001b[0m\u001b[1;33m-\u001b[0m\u001b[1;36m2\u001b[0m\u001b[1;33m:\u001b[0m\u001b[1;33m]\u001b[0m\u001b[1;33m\u001b[0m\u001b[1;33m\u001b[0m\u001b[0m\n\u001b[0;32m    579\u001b[0m     \u001b[0margs\u001b[0m \u001b[1;33m=\u001b[0m \u001b[0mtt\u001b[0m\u001b[1;33m[\u001b[0m\u001b[1;33m:\u001b[0m\u001b[1;36m6\u001b[0m\u001b[1;33m]\u001b[0m \u001b[1;33m+\u001b[0m \u001b[1;33m(\u001b[0m\u001b[0mfraction\u001b[0m\u001b[1;33m,\u001b[0m\u001b[1;33m)\u001b[0m\u001b[1;33m\u001b[0m\u001b[1;33m\u001b[0m\u001b[0m\n",
      "\u001b[1;32m~\\AppData\\Local\\Continuum\\anaconda3\\lib\\_strptime.py\u001b[0m in \u001b[0;36m_strptime\u001b[1;34m(data_string, format)\u001b[0m\n\u001b[0;32m    357\u001b[0m     \u001b[1;32mif\u001b[0m \u001b[1;32mnot\u001b[0m \u001b[0mfound\u001b[0m\u001b[1;33m:\u001b[0m\u001b[1;33m\u001b[0m\u001b[1;33m\u001b[0m\u001b[0m\n\u001b[0;32m    358\u001b[0m         raise ValueError(\"time data %r does not match format %r\" %\n\u001b[1;32m--> 359\u001b[1;33m                          (data_string, format))\n\u001b[0m\u001b[0;32m    360\u001b[0m     \u001b[1;32mif\u001b[0m \u001b[0mlen\u001b[0m\u001b[1;33m(\u001b[0m\u001b[0mdata_string\u001b[0m\u001b[1;33m)\u001b[0m \u001b[1;33m!=\u001b[0m \u001b[0mfound\u001b[0m\u001b[1;33m.\u001b[0m\u001b[0mend\u001b[0m\u001b[1;33m(\u001b[0m\u001b[1;33m)\u001b[0m\u001b[1;33m:\u001b[0m\u001b[1;33m\u001b[0m\u001b[1;33m\u001b[0m\u001b[0m\n\u001b[0;32m    361\u001b[0m         raise ValueError(\"unconverted data remains: %s\" %\n",
      "\u001b[1;31mValueError\u001b[0m: time data '%A %x %X %z' does not match format 'MSK'"
     ]
    }
   ],
   "source": [
    "# Timezone challenge\n",
    "import time\n",
    "import datetime\n",
    "import pytz\n",
    "\n",
    "disp_string = \"\"\"Please select a time zone from the list:\n",
    "1. India/Chennai\n",
    "2. Canada/Toronto\n",
    "3. Europe/Moscow\n",
    "4. UK/London\n",
    "5. Australia/Sydney\n",
    "0. Exit\"\"\"\n",
    "print(disp_string)\n",
    "user_tz = input()\n",
    "\n",
    "if (user_tz != \"Exit\") and (user_tz in disp_string):\n",
    "    py_tz = pytz.timezone(user_tz)\n",
    "    time_now = datetime.datetime.now(tz=py_tz)\n",
    "    time_local = datetime.datetime.now()\n",
    "    time_utc = datetime.datetime.utcnow()\n",
    "    \n",
    "    print(\"The time in {0} is {1} and the local time is {2} and UTC is {3}\".format(user_tz, time.strptime(\"%A %x %X %z\", time_now),\n",
    "          time.strptime(\"%Y-%m-%d %H:%M:%S\", time_local), time.strptime(\"%Y-%m-%d %H:%M:%S\", time_utc)))\n",
    "else:\n",
    "    print(\"End of Game\")\n",
    "    "
   ]
  },
  {
   "cell_type": "code",
   "execution_count": null,
   "metadata": {},
   "outputs": [],
   "source": []
  }
 ],
 "metadata": {
  "kernelspec": {
   "display_name": "Python 3",
   "language": "python",
   "name": "python3"
  },
  "language_info": {
   "codemirror_mode": {
    "name": "ipython",
    "version": 3
   },
   "file_extension": ".py",
   "mimetype": "text/x-python",
   "name": "python",
   "nbconvert_exporter": "python",
   "pygments_lexer": "ipython3",
   "version": "3.7.3"
  }
 },
 "nbformat": 4,
 "nbformat_minor": 2
}
