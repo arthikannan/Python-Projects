{
 "cells": [
  {
   "cell_type": "code",
   "execution_count": 4,
   "metadata": {},
   "outputs": [
    {
     "name": "stdout",
     "output_type": "stream",
     "text": [
      "the square of  1 is    1 and cube is    1\n",
      "********************************************************************************\n",
      "the square of  2 is    4 and cube is    8\n",
      "********************************************************************************\n",
      "the square of  3 is    9 and cube is   27\n",
      "********************************************************************************\n",
      "the square of  4 is   16 and cube is   64\n",
      "********************************************************************************\n",
      "the square of  5 is   25 and cube is  125\n",
      "********************************************************************************\n",
      "the square of  6 is   36 and cube is  216\n",
      "********************************************************************************\n",
      "the square of  7 is   49 and cube is  343\n",
      "********************************************************************************\n",
      "the square of  8 is   64 and cube is  512\n",
      "********************************************************************************\n",
      "the square of  9 is   81 and cube is  729\n",
      "********************************************************************************\n",
      "the square of 10 is  100 and cube is 1000\n",
      "********************************************************************************\n",
      "the square of 11 is  121 and cube is 1331\n",
      "********************************************************************************\n",
      "the square of 12 is  144 and cube is 1728\n",
      "********************************************************************************\n",
      "--------------------------------------------------------------------------------\n"
     ]
    }
   ],
   "source": [
    "for i in range(1,13):\n",
    "    sq=i**2\n",
    "    cu=i**3\n",
    "    print(f\"the square of {i:2} is {sq:4} and cube is {cu:4}\")\n",
    "    print(\"*\" * 80)\n",
    "    \n",
    "print(\"-\" * 80)"
   ]
  },
  {
   "cell_type": "code",
   "execution_count": 8,
   "metadata": {},
   "outputs": [
    {
     "name": "stdout",
     "output_type": "stream",
     "text": [
      "Please enter your name\tarthi\n",
      "Hi arthi, how old are you?\t10\n",
      "arthi, please come again after 8 years \n"
     ]
    }
   ],
   "source": [
    "name=input(\"Please enter your name\\t\")\n",
    "age = int(input(\"Hi {}, how old are you?\\t\".format(name)))\n",
    "\n",
    "if age >= 18:\n",
    "    print(\"{}, you are allowed to vote\".format(name))\n",
    "else:\n",
    "    print(\"{}, please come again after {} years \".format(name,18-age))"
   ]
  },
  {
   "cell_type": "code",
   "execution_count": 16,
   "metadata": {},
   "outputs": [
    {
     "name": "stdout",
     "output_type": "stream",
     "text": [
      "Please enter a number between 1 to 10\n",
      "3\n",
      "Guess Higher\n",
      "9\n",
      "sorry, not right\n"
     ]
    }
   ],
   "source": [
    "answer = 5\n",
    "print(\"Please enter a number between 1 to 10\")\n",
    "no=int(input())\n",
    "# if no==answer:\n",
    "#     print(\"You guessed it right the first time!\")\n",
    "# elif no>answer:\n",
    "#     print(\"Guess a number lower\")\n",
    "#     print(\"Another chance, guess a number lower\")\n",
    "#     no=int(input())\n",
    "#     if no == answer:\n",
    "#         print(\"You have guessed it right this time!\")\n",
    "#     else:\n",
    "#         print(\"Sorry, not right\")\n",
    "# else:\n",
    "#     print(\"Guess a number higher\")\n",
    "#     print(\"Another chance, guess a number higher\")\n",
    "#     no=int(input())\n",
    "#     if no == answer:\n",
    "#         print(\"You have guessed it right this time!\")\n",
    "#     else:\n",
    "#         print(\"Sorry, not right\")\n",
    "\n",
    "# Better way to code the Guess game\n",
    "if no != answer:\n",
    "    if no > answer:\n",
    "        print(\"Guess Lower\")\n",
    "    else: # No less than answer\n",
    "        print(\"Guess Higher\")\n",
    "    no=int(input())\n",
    "    if no == answer:\n",
    "        print(\"you guessed it right\")\n",
    "    else:\n",
    "        print(\"sorry, not right\")\n",
    "else:\n",
    "    print(\"you guessed it right the first time\")"
   ]
  },
  {
   "cell_type": "code",
   "execution_count": 15,
   "metadata": {},
   "outputs": [
    {
     "name": "stdout",
     "output_type": "stream",
     "text": [
      "you guessed it right the first time\n"
     ]
    }
   ],
   "source": [
    "# Reverse way to code the Guess game\n",
    "if no == answer:\n",
    "    print(\"you guessed it right the first time\")\n",
    "else:\n",
    "    if no > answer:\n",
    "        print(\"Guess Lower\")\n",
    "    else: # No less than answer\n",
    "        print(\"Guess Higher\")\n",
    "    no=int(input())\n",
    "    if no == answer:\n",
    "        print(\"you guessed it right\")\n",
    "    else:\n",
    "        print(\"sorry, not right\")"
   ]
  },
  {
   "cell_type": "code",
   "execution_count": 18,
   "metadata": {},
   "outputs": [
    {
     "name": "stdout",
     "output_type": "stream",
     "text": [
      "how old are you?\t14\n"
     ]
    }
   ],
   "source": [
    "age=int(input(\"how old are you?\\t\"))\n",
    "\n",
    "if age>16 and age <65:\n",
    "    print(\"Good day at work\")"
   ]
  },
  {
   "cell_type": "code",
   "execution_count": 1,
   "metadata": {},
   "outputs": [
    {
     "name": "stdout",
     "output_type": "stream",
     "text": [
      "how old are you?\t25\n",
      "Good day at work\n"
     ]
    }
   ],
   "source": [
    "# simplified chained comparison\n",
    "\n",
    "age=int(input(\"how old are you?\\t\"))\n",
    "\n",
    "if 16 < age < 65:\n",
    "    print(\"Good day at work\")"
   ]
  },
  {
   "cell_type": "code",
   "execution_count": null,
   "metadata": {},
   "outputs": [],
   "source": []
  }
 ],
 "metadata": {
  "kernelspec": {
   "display_name": "Python 3",
   "language": "python",
   "name": "python3"
  },
  "language_info": {
   "codemirror_mode": {
    "name": "ipython",
    "version": 3
   },
   "file_extension": ".py",
   "mimetype": "text/x-python",
   "name": "python",
   "nbconvert_exporter": "python",
   "pygments_lexer": "ipython3",
   "version": "3.7.3"
  }
 },
 "nbformat": 4,
 "nbformat_minor": 2
}
