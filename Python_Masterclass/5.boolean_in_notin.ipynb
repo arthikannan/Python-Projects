{
 "cells": [
  {
   "cell_type": "code",
   "execution_count": 3,
   "metadata": {},
   "outputs": [
    {
     "name": "stdout",
     "output_type": "stream",
     "text": [
      "Perfect weather for swimming!\n"
     ]
    }
   ],
   "source": [
    "day = \"Sunday\"\n",
    "temp = 30\n",
    "raining = False\n",
    "\n",
    "if day == \"Sunday\" and temp >= 25 and not raining:\n",
    "    print(\"Perfect weather for swimming!\")\n",
    "else:\n",
    "    print(\"Stay home\")"
   ]
  },
  {
   "cell_type": "code",
   "execution_count": 9,
   "metadata": {},
   "outputs": [
    {
     "name": "stdout",
     "output_type": "stream",
     "text": [
      "Enter a character B\n",
      "B not found in Norwegian Blue\n"
     ]
    }
   ],
   "source": [
    "parrot = \"Norwegian Blue\"\n",
    "letter = input(\"Enter a character \")\n",
    "\n",
    "if letter in parrot.casefold():\n",
    "    print(\"{} is found in {}\".format(letter,parrot))\n",
    "else:\n",
    "    print(\"{} not found in {}\".format(letter,parrot))"
   ]
  },
  {
   "cell_type": "code",
   "execution_count": 26,
   "metadata": {},
   "outputs": [
    {
     "name": "stdout",
     "output_type": "stream",
     "text": [
      "Please enter your name arthi\n",
      "Enter your age arthi 20\n",
      "welcome to the holiday arthi!\n"
     ]
    }
   ],
   "source": [
    "# challenge solution\n",
    "name = input(\"Please enter your name \")\n",
    "\n",
    "age = int(input(\"Enter your age {} \".format(name)))\n",
    "\n",
    "if 18 < age < 31:\n",
    "    print(\"welcome to the holiday {}!\".format(name))\n",
    "else:\n",
    "    print(\"sorry, you are not welcome {}\".format(name))"
   ]
  },
  {
   "cell_type": "code",
   "execution_count": null,
   "metadata": {},
   "outputs": [],
   "source": []
  },
  {
   "cell_type": "code",
   "execution_count": null,
   "metadata": {},
   "outputs": [],
   "source": []
  }
 ],
 "metadata": {
  "kernelspec": {
   "display_name": "Python 3",
   "language": "python",
   "name": "python3"
  },
  "language_info": {
   "codemirror_mode": {
    "name": "ipython",
    "version": 3
   },
   "file_extension": ".py",
   "mimetype": "text/x-python",
   "name": "python",
   "nbconvert_exporter": "python",
   "pygments_lexer": "ipython3",
   "version": "3.7.3"
  }
 },
 "nbformat": 4,
 "nbformat_minor": 2
}
